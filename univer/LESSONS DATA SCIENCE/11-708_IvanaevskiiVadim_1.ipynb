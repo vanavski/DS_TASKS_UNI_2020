{
 "cells": [
  {
   "cell_type": "code",
   "execution_count": 11,
   "metadata": {},
   "outputs": [],
   "source": [
    "import numpy as np\n",
    "import matplotlib.pyplot as plt"
   ]
  },
  {
   "cell_type": "code",
   "execution_count": 12,
   "metadata": {},
   "outputs": [
    {
     "data": {
      "text/plain": [
       "<Figure size 432x288 with 0 Axes>"
      ]
     },
     "metadata": {},
     "output_type": "display_data"
    },
    {
     "data": {
      "image/png": "[encoded data removed]",
      "text/plain": [
       "<Figure size 432x288 with 1 Axes>"
      ]
     },
     "metadata": {
      "needs_background": "light"
     },
     "output_type": "display_data"
    }
   ],
   "source": [
    "fig = plt.figure()\n",
    "data = np.array([[5,2],[9,9],[1,7], [5,8], [4,4]])\n",
    "fig = plt.figure()\n",
    "plt.scatter(data[:,0], data[:,1], c=['red', 'blue', 'green', 'grey', 'black'])\n",
    "plt.show()"
   ]
  },
  {
   "cell_type": "code",
   "execution_count": 13,
   "metadata": {},
   "outputs": [],
   "source": [
    "# Создать генератор данных, обладающих меткой класса, и визуализировать  \n",
    "# в виде цветных точкек с помощью библиотеки pygame \n",
    "import pygame\n",
    "import numpy as np"
   ]
  },
  {
   "cell_type": "code",
   "execution_count": 14,
   "metadata": {},
   "outputs": [],
   "source": [
    "def createData(position, color):\n",
    "    (x, y) = position\n",
    "    r = np.random.uniform(0, 30)\n",
    "    phi = np.random.uniform(0, 2 * np.pi)\n",
    "    coord = [x + r * np.cos(phi), y + r * np.sin(phi)]\n",
    "    return [coord[0], coord[1], color]"
   ]
  },
  {
   "cell_type": "code",
   "execution_count": 15,
   "metadata": {},
   "outputs": [],
   "source": [
    "radius = 2\n",
    "colors = {}\n",
    "resdata = []\n",
    "thickness = 0\n",
    "\n",
    "bg_color = (255, 255, 255)\n",
    "(width, height) = (640, 480);\n",
    "screen = pygame.display.set_mode((width, height))\n",
    "pygame.display.set_caption('DataGenerator')\n",
    "\n",
    "color_arr = [(0, 0, 0), (111, 0, 111), (255, 0, 255)]\n",
    "color = (0, 0, 0)\n",
    "running = True\n",
    "pushing = False\n",
    "while running:\n",
    "    for event in pygame.event.get():\n",
    "        if event.type == pygame.QUIT:\n",
    "            running = False\n",
    "        elif event.type == pygame.KEYDOWN:\n",
    "            if event.key == pygame.K_1:\n",
    "                color = color_arr[0]\n",
    "            if event.key == pygame.K_2:\n",
    "                color = color_arr[1]\n",
    "            if event.key == pygame.K_3:\n",
    "                color = color_arr[2]\n",
    "        elif event.type == pygame.MOUSEBUTTONDOWN:\n",
    "            pushing = True\n",
    "        elif event.type == pygame.MOUSEBUTTONUP:\n",
    "            pushing = False\n",
    "    if pushing:\n",
    "        resdata.append(createData(pygame.mouse.get_pos(), color))\n",
    "    screen.fill(bg_color)\n",
    "    for point in resdata:\n",
    "        pygame.draw.circle(screen, point[2], (int(point[0]), int(point[1])), radius, thickness)\n",
    "    pygame.display.flip()\n",
    "pygame.quit()"
   ]
  },
  {
   "cell_type": "code",
   "execution_count": null,
   "metadata": {},
   "outputs": [],
   "source": []
  }
 ],
 "metadata": {
  "kernelspec": {
   "display_name": "Python 3",
   "language": "python",
   "name": "python3"
  },
  "language_info": {
   "codemirror_mode": {
    "name": "ipython",
    "version": 3
   },
   "file_extension": ".py",
   "mimetype": "text/x-python",
   "name": "python",
   "nbconvert_exporter": "python",
   "pygments_lexer": "ipython3",
   "version": "3.7.6"
  }
 },
 "nbformat": 4,
 "nbformat_minor": 4
}
