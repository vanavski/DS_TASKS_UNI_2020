{
 "cells": [
  {
   "cell_type": "code",
   "execution_count": 1,
   "metadata": {},
   "outputs": [],
   "source": [
    "import numpy as np\n",
    "import matplotlib.pyplot as plt"
   ]
  },
  {
   "cell_type": "code",
   "execution_count": null,
   "metadata": {},
   "outputs": [],
   "source": [
    "dataset = np.empty((0, 2))\n",
    "\n",
    "with open('sunspot.txt' 'r') as file:\n",
    "    data = file.readlines()\n",
    "    for i, line in enumerate(data):\n",
    "        if i > 3 and i < 3080:\n",
    "            words = line.split(' ')\n",
    "            if len(words) != 1:\n",
    "#                 print(float(words[-1][:-1]))\n",
    "                dataset = np.append(dataset, [[i-3, float(words[-1][:-1])]], axis=0)\n",
    "    print(dataset)\n",
    "#             print(line)"
   ]
  }
 ],
 "metadata": {
  "kernelspec": {
   "display_name": "Python 3",
   "language": "python",
   "name": "python3"
  },
  "language_info": {
   "codemirror_mode": {
    "name": "ipython",
    "version": 3
   },
   "file_extension": ".py",
   "mimetype": "text/x-python",
   "name": "python",
   "nbconvert_exporter": "python",
   "pygments_lexer": "ipython3",
   "version": "3.7.6"
  }
 },
 "nbformat": 4,
 "nbformat_minor": 4
}
