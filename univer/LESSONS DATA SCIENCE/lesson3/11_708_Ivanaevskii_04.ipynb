{
 "cells": [
  {
   "cell_type": "code",
   "execution_count": 22,
   "metadata": {},
   "outputs": [],
   "source": [
    "import math\n",
    "from skimage import io, color\n",
    "from skimage.transform import resize\n",
    "import numpy as np\n",
    "import random"
   ]
  },
  {
   "cell_type": "code",
   "execution_count": 23,
   "metadata": {},
   "outputs": [],
   "source": [
    "def create_superpixel(height, weight, img):\n",
    "    return SuperPixels(height, weight, img[height,weight][0], img[height, weight][1], img[height,weight][2])"
   ]
  },
  {
   "cell_type": "code",
   "execution_count": 24,
   "metadata": {},
   "outputs": [],
   "source": [
    "def init_center_of_claster(S, img, img_height, img_weight, clusters):\n",
    "    height = S // 2\n",
    "    weight = S // 2\n",
    "    while height < img_height:\n",
    "        while weight < img_weight:\n",
    "#             Добавил рандом для пункта 1\n",
    "            rnd_h = random.randint(height, img_height - 1)\n",
    "            rnd_w = random.randint(weight, img_weight - 1)\n",
    "            clusters.append(create_superpixel(rnd_h, rnd_w, img))\n",
    "            weight += S\n",
    "        weight = S // 2\n",
    "        height += S\n",
    "    return clusters"
   ]
  },
  {
   "cell_type": "code",
   "execution_count": 25,
   "metadata": {},
   "outputs": [],
   "source": [
    "def calculate_gradient(height, weight, img, img_weight, img_height):\n",
    "    if weight + 1 >= img_weight:\n",
    "        weight = img_weight - 2\n",
    "    if height + 1 >= img_height:\n",
    "        height = img_height - 2\n",
    "    grad = img[weight + 1, height + 1][0] - img[weight, height][0] + img[weight + 1, height + 1][1] - img[weight, height][1] + img[weight + 1, height + 1][2] - img[weight, height][2]\n",
    "    return grad"
   ]
  },
  {
   "cell_type": "code",
   "execution_count": 26,
   "metadata": {},
   "outputs": [],
   "source": [
    "def reassign_cluster_center_acc_to_grad(clusters, img):\n",
    "    for c in clusters:\n",
    "        cluster_gradient = calculate_gradient(c.height, c.weight, img, img_weight, img_height)\n",
    "        for dh in range(-1, 2):\n",
    "            for dw in range(-1, 2):\n",
    "                Height = c.height + dh\n",
    "                Weight = c.weight + dw\n",
    "                new_gradient = calculate_gradient(Height, Weight, img, img_weight, img_height)\n",
    "                if new_gradient < cluster_gradient:\n",
    "                    c.update(Height, Weight, img[Height, Weight][0], img[Height, Weight][1], img[Height, Weight][2])\n",
    "                    c_gradient = new_gradient"
   ]
  },
  {
   "cell_type": "code",
   "execution_count": 27,
   "metadata": {},
   "outputs": [],
   "source": [
    "# metric method\n",
    "def assign_pixels_to_cluster_Euclidean_distance(clusters, S, img, img_height, img_weight, tag, dis):\n",
    "    for c in clusters:\n",
    "        for height in range(c.height - 2 * S, c.height + 2 * S):\n",
    "            if height < 0 or height >= img_height: continue\n",
    "            for weight in range(c.weight - 2 * S, c.weight + 2 * S):\n",
    "                if weight < 0 or weight >= img_weight: continue\n",
    "                l, a, b = img[height, weight]\n",
    "                Dc = math.sqrt(math.pow(l - c.l, 2) + math.pow(a - c.a, 2) + math.pow(b - c.b, 2))\n",
    "                Ds = math.sqrt(math.pow(height - c.height, 2) + math.pow(weight - c.weight, 2))\n",
    "                D = math.sqrt(math.pow(Dc / m, 2) + math.pow(Ds /S, 2))\n",
    "                if D < dis[height, weight]:\n",
    "                    if (height, weight) not in tag:\n",
    "                        tag[(height, weight)] = c\n",
    "                        c.pixels.append((height, weight))\n",
    "                    else:\n",
    "                        tag[(height, weight)].pixels.remove((height, weight))\n",
    "                        tag[(height, weight)] = c\n",
    "                        c.pixels.append((height, weight))\n",
    "                    dis[height, weight] = D"
   ]
  },
  {
   "cell_type": "code",
   "execution_count": 28,
   "metadata": {},
   "outputs": [],
   "source": [
    "# metric method\n",
    "def assign_pixels_to_cluster_Euclidean_distance_squared(clusters, S, img, img_height, img_weight, tag, dis):\n",
    "    for c in clusters:\n",
    "        for height in range(c.height - 2 * S, c.height + 2 * S):\n",
    "            if height < 0 or height >= img_height: continue\n",
    "            for weight in range(c.weight - 2 * S, c.weight + 2 * S):\n",
    "                if weight < 0 or weight >= img_weight: continue\n",
    "                l, a, b = img[height, weight]\n",
    "                Dc = math.pow(l - c.l, 2) + math.pow(a - c.a, 2) + math.pow(b - c.b, 2)\n",
    "                Ds = math.pow(height - c.height, 2) + math.pow(weight - c.weight, 2)\n",
    "                D = math.pow(Dc / m, 2) + math.pow(Ds /S, 2)\n",
    "                if D < dis[height, weight]:\n",
    "                    if (height, weight) not in tag:\n",
    "                        tag[(height, weight)] = c\n",
    "                        c.pixels.append((height, weight))\n",
    "                    else:\n",
    "                        tag[(height, weight)].pixels.remove((height, weight))\n",
    "                        tag[(height, weight)] = c\n",
    "                        c.pixels.append((height, weight))\n",
    "                    dis[height, weight] = D"
   ]
  },
  {
   "cell_type": "code",
   "execution_count": 42,
   "metadata": {},
   "outputs": [],
   "source": [
    "# metric method\n",
    "def assign_pixels_to_cluster_Chebyshev_dist(clusters, S, img, img_height, img_weight, tag, dis):\n",
    "    for c in clusters:\n",
    "        for height in range(c.height - 2 * S, c.height + 2 * S):\n",
    "            if height < 0 or height >= img_height: continue\n",
    "            for weight in range(c.weight - 2 * S, c.weight + 2 * S):\n",
    "                if weight < 0 or weight >= img_weight: continue\n",
    "                l, a, b = img[height, weight]\n",
    "                Dc = max(abs(l - c.l), abs(a - c.a), abs(b - c.b))\n",
    "                Ds = max(abs(height - c.height), abs(weight - c.weight))\n",
    "                D = (Dc / m) + (Ds / S)\n",
    "                if D < dis[height, weight]:\n",
    "                    if (height, weight) not in tag:\n",
    "                        tag[(height, weight)] = c\n",
    "                        c.pixels.append((height, weight))\n",
    "                    else:\n",
    "                        tag[(height, weight)].pixels.remove((height, weight))\n",
    "                        tag[(height, weight)] = c\n",
    "                        c.pixels.append((height, weight))\n",
    "                    dis[height, weight] = D"
   ]
  },
  {
   "cell_type": "code",
   "execution_count": 46,
   "metadata": {},
   "outputs": [],
   "source": [
    "# metric method\n",
    "def assign_pixels_to_cluster_Manh_dist(clusters, S, img, img_height, img_weight, tag, dis):\n",
    "    for c in clusters:\n",
    "        for height in range(c.height - 2 * S, c.height + 2 * S):\n",
    "            if height < 0 or height >= img_height: continue\n",
    "            for weight in range(c.weight - 2 * S, c.weight + 2 * S):\n",
    "                if weight < 0 or weight >= img_weight: continue\n",
    "                l, a, b = img[height, weight]\n",
    "                Dc = abs(l - c.l) + abs(a - c.a) + abs(b - c.b)\n",
    "                Ds = abs(height - c.height) + abs(weight - c.weight)\n",
    "                D = (Dc / m) + (Ds / S)\n",
    "                if D < dis[height, weight]:\n",
    "                    if (height, weight) not in tag:\n",
    "                        tag[(height, weight)] = c\n",
    "                        c.pixels.append((height, weight))\n",
    "                    else:\n",
    "                        tag[(height, weight)].pixels.remove((height, weight))\n",
    "                        tag[(height, weight)] = c\n",
    "                        c.pixels.append((height, weight))\n",
    "                    dis[height, weight] = D"
   ]
  },
  {
   "cell_type": "code",
   "execution_count": 31,
   "metadata": {},
   "outputs": [],
   "source": [
    "def update_cluster_mean(clusters):\n",
    "    for c in clusters:\n",
    "        sum_height = sum_weight = number = 0\n",
    "        for p in c.pixels:\n",
    "            sum_height += p[0]\n",
    "            sum_weight += p[1]\n",
    "            number += 1\n",
    "            Height = sum_height // number\n",
    "            Weight = sum_weight // number\n",
    "            c.update(Height, Weight, img[Height, Weight][0], img[Height, Weight][1], img[Height, Weight][2])"
   ]
  },
  {
   "cell_type": "code",
   "execution_count": 32,
   "metadata": {},
   "outputs": [],
   "source": [
    "def avg_color_cluster(img,name,clusters):\n",
    "    image = np.copy(img)\n",
    "    for c in clusters:\n",
    "        for p in c.pixels:\n",
    "            image[p[0],p[1]][0] = c.l\n",
    "            image[p[0],p[1]][1] = c.a\n",
    "            image[p[0],p[1]][2] = c.b\n",
    "        # To change the color of cluster center to Black\n",
    "        image[c.height, c.weight][0] = 0\n",
    "        image[c.height, c.weight][1] = 0\n",
    "        image[c.height, c.weight][2] = 0\n",
    "    lab2rgb(name, image)"
   ]
  },
  {
   "cell_type": "code",
   "execution_count": 33,
   "metadata": {},
   "outputs": [],
   "source": [
    "def slic(S, img, img_height, img_weight, clusters, tag, dis, method):\n",
    "    clusters = init_center_of_claster(S, img, img_height, img_weight, clusters)\n",
    "    reassign_cluster_center_acc_to_grad(clusters, img)\n",
    "    for i in range(10):\n",
    "        if (method == 1):\n",
    "            assign_pixels_to_cluster_Euclidean_distance(clusters, S, img, img_height, img_weight, tag, dis)\n",
    "        elif (method == 2):\n",
    "            assign_pixels_to_cluster_Euclidean_distance_squared(clusters, S, img, img_height, img_weight, tag, dis)\n",
    "        elif (method == 3):\n",
    "            assign_pixels_to_cluster_Chebyshev_dist(clusters, S, img, img_height, img_weight, tag, dis)\n",
    "        elif (method == 4):\n",
    "            assign_pixels_to_cluster_Manh_dist(clusters, S, img, img_height, img_weight, tag, dis)\n",
    "        else:\n",
    "            print('неправильно введен метод')\n",
    "            break\n",
    "        update_cluster_mean(clusters)\n",
    "        if i == 9 : \n",
    "            name = 'out_m{m}_k{k}.png'.format(loop = i, m = m, k = k)\n",
    "            avg_color_cluster(img, name, clusters)\n",
    "    return clusters"
   ]
  },
  {
   "cell_type": "code",
   "execution_count": 34,
   "metadata": {},
   "outputs": [],
   "source": [
    "def lab2rgb(path, lab_arr):\n",
    "    rgb_arr = color.lab2rgb(lab_arr)\n",
    "    io.imsave(path, rgb_arr)"
   ]
  },
  {
   "cell_type": "code",
   "execution_count": 35,
   "metadata": {},
   "outputs": [],
   "source": [
    "class SuperPixels(object):\n",
    "\n",
    "    def __init__(self, height, weight, l = 0, a = 0, b = 0):\n",
    "        self.update(height, weight, l, a, b)\n",
    "        self.pixels = []\n",
    "\n",
    "    def update(self, height, weight, l, a, b):\n",
    "        self.height = height\n",
    "        self.weight = weight\n",
    "        self.l = l\n",
    "        self.a = a\n",
    "        self.b = b"
   ]
  },
  {
   "cell_type": "code",
   "execution_count": 47,
   "metadata": {
    "scrolled": true
   },
   "outputs": [
    {
     "name": "stdout",
     "output_type": "stream",
     "text": [
      "(320, 240, 3)\n",
      "(400, 400, 3)\n",
      "Введите номер метрики от 1 до 4\n",
      "4\n"
     ]
    },
    {
     "name": "stderr",
     "output_type": "stream",
     "text": [
      "Lossy conversion from float64 to uint8. Range [0, 1]. Convert image to uint8 prior to saving to suppress this warning.\n"
     ]
    }
   ],
   "source": [
    "rgb = io.imread('test.jpg', plugin='matplotlib')\n",
    "print(rgb.shape)\n",
    "\n",
    "img = resize(rgb, (400,400), anti_aliasing=True)\n",
    "print(img.shape)\n",
    "\n",
    "# convert RGB to LAB\n",
    "img = color.rgb2lab(img)\n",
    "\n",
    "k = 100 # number of superpixel used to segment the input img\n",
    "m = 20    \n",
    "\n",
    "img_height = img.shape[0] \n",
    "img_weight = img.shape[1] \n",
    "\n",
    "N = img_height * img_weight # number of pixels in the input image\n",
    "# for roughly equally sized superpixels there would be a superpixel centre at every grid interval S\n",
    "S = int(math.sqrt(N /k)) \n",
    "\n",
    "clusters = []\n",
    "tag = {}\n",
    "dis = np.full((img_height, img_weight), np.inf)\n",
    "\n",
    "# №3 Выбор метрики\n",
    "print('Введите номер метрики от 1 до 4')\n",
    "method = input()\n",
    "method = int(method)\n",
    "\n",
    "if (method == 1 or method == 2 or method == 3 or method == 4):\n",
    "    cluster = slic(S, img, img_height, img_weight, clusters, tag, dis, method)\n",
    "else:\n",
    "    print(\"неправильно введен номер метрики\")"
   ]
  }
 ],
 "metadata": {
  "kernelspec": {
   "display_name": "Python 3",
   "language": "python",
   "name": "python3"
  },
  "language_info": {
   "codemirror_mode": {
    "name": "ipython",
    "version": 3
   },
   "file_extension": ".py",
   "mimetype": "text/x-python",
   "name": "python",
   "nbconvert_exporter": "python",
   "pygments_lexer": "ipython3",
   "version": "3.7.6"
  }
 },
 "nbformat": 4,
 "nbformat_minor": 4
}
