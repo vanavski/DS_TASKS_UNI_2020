{
 "cells": [
  {
   "cell_type": "code",
   "execution_count": 1,
   "metadata": {},
   "outputs": [],
   "source": [
    "import numpy as np\n",
    "import matplotlib.pyplot as plt\n",
    "from sklearn import svm, datasets"
   ]
  },
  {
   "cell_type": "code",
   "execution_count": 35,
   "metadata": {},
   "outputs": [
    {
     "data": {
      "image/png": "[encoded data removed]",
      "text/plain": [
       "<Figure size 432x288 with 1 Axes>"
      ]
     },
     "metadata": {
      "needs_background": "light"
     },
     "output_type": "display_data"
    },
    {
     "name": "stdout",
     "output_type": "stream",
     "text": [
      "(5, 3)\n",
      "(5,)\n"
     ]
    }
   ],
   "source": [
    "iris = datasets.load_iris()\n",
    "# print(iris)\n",
    "\n",
    "X = iris.data[:, :2]\n",
    "y = iris.target\n",
    "\n",
    "svc = svm.SVC(kernel='linear', C=1, gamma=.000001).fit(X, y)\n",
    "#\n",
    "# plt.figure()\n",
    "# plt.scatter(X[:, 0], X[:, 1], c=y, cmap=plt.cm.Paired)\n",
    "# plt.show()\n",
    "\n",
    "X = np.array([[-2, 4], [4, 1], [1, 6], [2, 4], [6, 2]])\n",
    "bias = np.array([[-1 for i in range(X.shape[0])]])\n",
    "X = np.append(X, bias.T, axis=1)\n",
    "y = np.array([-1, -1, 1, 1, 1])\n",
    "\n",
    "plt.figure()\n",
    "plt.scatter(X[:, 0], X[:, 1], c=y, cmap=plt.cm.Paired)\n",
    "plt.show()\n",
    "\n",
    "print(X.shape)\n",
    "print(y.shape)"
   ]
  },
  {
   "cell_type": "code",
   "execution_count": 39,
   "metadata": {},
   "outputs": [
    {
     "name": "stdout",
     "output_type": "stream",
     "text": [
      "<class 'numpy.ndarray'>\n",
      "<class 'numpy.int32'>\n",
      "<class 'numpy.ndarray'>\n",
      "<class 'numpy.ndarray'>\n",
      "<class 'numpy.int32'>\n"
     ]
    }
   ],
   "source": [
    "print(type(y))\n",
    "print(type(y[0]))\n",
    "print(type(X))\n",
    "print(type(X[0]))\n",
    "print(type(X[0][0]))"
   ]
  },
  {
   "cell_type": "code",
   "execution_count": 37,
   "metadata": {},
   "outputs": [
    {
     "name": "stdout",
     "output_type": "stream",
     "text": [
      "<class 'numpy.ndarray'>\n"
     ]
    }
   ],
   "source": [
    "print(type(y))"
   ]
  },
  {
   "cell_type": "code",
   "execution_count": null,
   "metadata": {},
   "outputs": [],
   "source": []
  },
  {
   "cell_type": "code",
   "execution_count": null,
   "metadata": {},
   "outputs": [],
   "source": []
  },
  {
   "cell_type": "code",
   "execution_count": 2,
   "metadata": {},
   "outputs": [
    {
     "name": "stdout",
     "output_type": "stream",
     "text": [
      "pygame 1.9.6\n",
      "Hello from the pygame community. https://www.pygame.org/contribute.html\n"
     ]
    },
    {
     "name": "stderr",
     "output_type": "stream",
     "text": [
      "<string>:6: VisibleDeprecationWarning: Creating an ndarray from ragged nested sequences (which is a list-or-tuple of lists-or-tuples-or ndarrays with different lengths or shapes) is deprecated. If you meant to do this, you must specify 'dtype=object' when creating the ndarray\n"
     ]
    }
   ],
   "source": [
    "# приспособить рисовалку к вышенаписанному коду\n",
    "import numpy as np\n",
    "import matplotlib.pyplot as plt\n",
    "import pygame as pg\n",
    "import keyboard as kb\n",
    "\n",
    "data = np.empty((0,3), dtype='f')\n",
    "colorChosen = False\n",
    "colors = []\n",
    "\n",
    "def createData(position, color):\n",
    "    (x, y) = position \n",
    "    r = np.random.uniform(0, 30)\n",
    "    phi = np.random.uniform(0, 2*np.pi)\n",
    "    coord = [x + r*np.cos(phi), y + r*np.sin(phi), color]\n",
    "    global data\n",
    "    data = np.append(data, [coord], axis=0)\n",
    "    \n",
    "       \n",
    "radius = 2\n",
    "thickness = 0\n",
    "\n",
    "colors = {pg.K_1:(243, 34, 246),\n",
    "          pg.K_2:(0, 191, 255),\n",
    "          pg.K_3: (191, 0, 255)}\n",
    "color = colors[pg.K_1]\n",
    "\n",
    "bbb = (255,255,255)\n",
    "(width, height) = (650, 480)\n",
    "screen = pg.display.set_mode((width, height))\n",
    "pg.display.set_caption(\"DataGenerator\")\n",
    "\n",
    "running = True\n",
    "pushing = False\n",
    "\n",
    "while running: \n",
    "    \n",
    "    for event in pg.event.get(): \n",
    "        if event.type == pg.QUIT:\n",
    "            running = False              \n",
    "        elif event.type == pg.MOUSEBUTTONDOWN:\n",
    "            pushing = True\n",
    "        elif event.type == pg.MOUSEBUTTONUP:\n",
    "            pushing = False\n",
    "        elif event.type == pg.KEYDOWN and event.key in colors:\n",
    "            color = colors[event.key]\n",
    "\n",
    "    if pushing and np.random.uniform(0, 1) > 0.9:\n",
    "        createData(pg.mouse.get_pos(), color)\n",
    "            \n",
    "    screen.fill(bbb)\n",
    "    for point in data:\n",
    "        pg.draw.circle(screen, point[2], (int(point[0]), int(point[1])), radius, thickness)\n",
    "        \n",
    "    pg.display.flip()\n",
    "    \n",
    "pg.quit()"
   ]
  },
  {
   "cell_type": "code",
   "execution_count": 3,
   "metadata": {
    "scrolled": true
   },
   "outputs": [
    {
     "data": {
      "text/plain": [
       "array([[121.4019974851832, 103.04208168627089, (243, 34, 246)],\n",
       "       [110.11008633668033, 66.86181906788468, (243, 34, 246)],\n",
       "       [113.78235284543997, 86.12942764059136, (243, 34, 246)],\n",
       "       [96.25776188891484, 72.45879767949172, (243, 34, 246)],\n",
       "       [117.69833276029757, 74.29112041210767, (243, 34, 246)],\n",
       "       [103.45469457004617, 108.15224196513402, (243, 34, 246)],\n",
       "       [119.21987607697066, 110.91666793943881, (243, 34, 246)],\n",
       "       [111.43731609219165, 104.32780508992634, (243, 34, 246)],\n",
       "       [122.05190125188219, 110.53258527918629, (243, 34, 246)],\n",
       "       [104.20442545722335, 120.71085677167936, (243, 34, 246)],\n",
       "       [111.0454687957245, 126.764669900977, (243, 34, 246)],\n",
       "       [95.65334568365172, 140.96555700171064, (243, 34, 246)],\n",
       "       [121.89648891485638, 132.61451603061286, (243, 34, 246)],\n",
       "       [101.56643190563481, 162.64626928713744, (243, 34, 246)],\n",
       "       [130.61042449761777, 133.4162592737178, (243, 34, 246)],\n",
       "       [127.89287293904428, 129.0923960954805, (243, 34, 246)],\n",
       "       [127.10444561738187, 162.1580043562419, (243, 34, 246)],\n",
       "       [96.39210987291528, 135.83650289200492, (243, 34, 246)],\n",
       "       [95.53316983895226, 142.1198017201864, (243, 34, 246)],\n",
       "       [114.65094860805779, 138.51789377611092, (243, 34, 246)],\n",
       "       [119.33485864176131, 208.97145252959913, (243, 34, 246)],\n",
       "       [91.32179498417386, 186.6914402951559, (243, 34, 246)],\n",
       "       [117.33788848487109, 238.89485846744745, (243, 34, 246)],\n",
       "       [126.50941132889736, 214.20969442103035, (243, 34, 246)],\n",
       "       [90.90661128227, 226.89255689425727, (243, 34, 246)],\n",
       "       [104.7174697945271, 211.98950663945456, (243, 34, 246)],\n",
       "       [97.54495652375249, 192.12379797414567, (243, 34, 246)],\n",
       "       [88.88253627458153, 209.96899952229933, (243, 34, 246)],\n",
       "       [123.16043470742417, 203.7163845149546, (243, 34, 246)],\n",
       "       [88.27277977917718, 198.5926384437418, (243, 34, 246)],\n",
       "       [439.647298152407, 106.97545058171832, (0, 191, 255)],\n",
       "       [427.967954570445, 83.78622023707779, (0, 191, 255)],\n",
       "       [446.0303790734781, 105.21189268030983, (0, 191, 255)],\n",
       "       [424.4993576052338, 75.1219199154078, (0, 191, 255)],\n",
       "       [413.2072884071816, 96.33235181075693, (0, 191, 255)],\n",
       "       [432.04570446472445, 99.99359299801183, (0, 191, 255)],\n",
       "       [423.18721606961583, 121.9414794112756, (0, 191, 255)],\n",
       "       [443.48670355286055, 132.55294253915994, (0, 191, 255)],\n",
       "       [436.2449392072327, 142.86308523293872, (0, 191, 255)],\n",
       "       [426.00335753445006, 140.27371221505183, (0, 191, 255)],\n",
       "       [424.29951305263734, 132.3293813882827, (0, 191, 255)],\n",
       "       [432.99769471482, 164.22073980312373, (0, 191, 255)],\n",
       "       [423.07291451571916, 172.038540040069, (0, 191, 255)],\n",
       "       [429.0509454128295, 162.88949134848892, (0, 191, 255)],\n",
       "       [438.5943228520102, 169.92544352688094, (0, 191, 255)],\n",
       "       [409.41636367707866, 172.01848365462504, (0, 191, 255)],\n",
       "       [422.9789619898241, 186.25727024027086, (0, 191, 255)],\n",
       "       [433.7521158072265, 200.3177471914721, (0, 191, 255)],\n",
       "       [399.707301035684, 201.1986138650647, (0, 191, 255)],\n",
       "       [408.7335007543757, 202.54395611243697, (0, 191, 255)],\n",
       "       [422.3900426184059, 198.87921044951455, (0, 191, 255)],\n",
       "       [429.99552313311784, 196.41725064476478, (0, 191, 255)],\n",
       "       [440.78042877070084, 188.7547206146862, (0, 191, 255)],\n",
       "       [424.2393859100332, 204.39756732760102, (0, 191, 255)],\n",
       "       [432.76709727264534, 203.3126124062329, (0, 191, 255)],\n",
       "       [399.3419408210419, 214.19111756425946, (0, 191, 255)],\n",
       "       [410.6743837811012, 205.00597855448677, (0, 191, 255)],\n",
       "       [432.69766532925075, 185.09131659807235, (0, 191, 255)],\n",
       "       [407.3998642043413, 212.18161092231068, (0, 191, 255)],\n",
       "       [417.3813039487199, 214.61555739400566, (0, 191, 255)],\n",
       "       [422.9252518037628, 215.67691869184463, (0, 191, 255)],\n",
       "       [414.001580403763, 217.6328219517663, (0, 191, 255)]], dtype=object)"
      ]
     },
     "execution_count": 3,
     "metadata": {},
     "output_type": "execute_result"
    }
   ],
   "source": [
    "data"
   ]
  },
  {
   "cell_type": "code",
   "execution_count": 4,
   "metadata": {},
   "outputs": [
    {
     "data": {
      "text/html": [
       "<div>\n",
       "<style scoped>\n",
       "    .dataframe tbody tr th:only-of-type {\n",
       "        vertical-align: middle;\n",
       "    }\n",
       "\n",
       "    .dataframe tbody tr th {\n",
       "        vertical-align: top;\n",
       "    }\n",
       "\n",
       "    .dataframe thead th {\n",
       "        text-align: right;\n",
       "    }\n",
       "</style>\n",
       "<table border=\"1\" class=\"dataframe\">\n",
       "  <thead>\n",
       "    <tr style=\"text-align: right;\">\n",
       "      <th></th>\n",
       "      <th>x</th>\n",
       "      <th>y</th>\n",
       "      <th>rgb</th>\n",
       "    </tr>\n",
       "  </thead>\n",
       "  <tbody>\n",
       "  </tbody>\n",
       "</table>\n",
       "</div>"
      ],
      "text/plain": [
       "Empty DataFrame\n",
       "Columns: [x, y, rgb]\n",
       "Index: []"
      ]
     },
     "execution_count": 4,
     "metadata": {},
     "output_type": "execute_result"
    }
   ],
   "source": [
    "import pandas as pd\n",
    "df = pd.DataFrame(columns = ['x', 'y', 'rgb'])\n",
    "df\n",
    "\n",
    "for i in range(len(data)):\n",
    "    df.loc[i, 'x'] = round(data[i][0])\n",
    "    df.loc[i, 'y'] = round(data[i][1])\n",
    "    if (data[i][2][0] == 0):\n",
    "        df.loc[i, 'rgb'] = 1\n",
    "    else:\n",
    "        df.loc[i, 'rgb'] = 0\n",
    "\n",
    "df"
   ]
  },
  {
   "cell_type": "code",
   "execution_count": 14,
   "metadata": {},
   "outputs": [
    {
     "name": "stdout",
     "output_type": "stream",
     "text": [
      "<class 'numpy.int32'>\n",
      "<class 'numpy.int32'>\n"
     ]
    }
   ],
   "source": [
    "print(type(df['x'][0]))\n",
    "df['x'] = df['x'].astype(np.int32)\n",
    "print(type(df['x'][0]))\n",
    "df['y'] = df['y'].astype(np.int32)"
   ]
  },
  {
   "cell_type": "code",
   "execution_count": 15,
   "metadata": {},
   "outputs": [],
   "source": [
    "from sklearn.utils import shuffle\n",
    "\n",
    "def svm_sgd(X, y):\n",
    "    w = np.zeros(len(X[0]))\n",
    "    h = 1\n",
    "    epochs = 10000\n",
    "\n",
    "    for epoch in range(1, epochs):\n",
    "        h = 1/epoch\n",
    "        X_, y_ = shuffle(X, y)\n",
    "        for i, x in enumerate(X):\n",
    "            distance = 1 - y_[i]*np.dot(X_[i], w)\n",
    "            if max(0, distance) == 0:\n",
    "                w[:-1] -= h*(w[:-1])/ len(X_) \n",
    "            else:\n",
    "                w[:-1] -= h*(w[:-1])- X_[i][:-1]*y_[i]/ len(X_)\n",
    "                w[-1] = h*y_[i]\n",
    "        return w\n",
    "\n",
    "x = df.to_numpy()\n",
    "y = df['rgb'].to_numpy()\n",
    "    "
   ]
  },
  {
   "cell_type": "code",
   "execution_count": 16,
   "metadata": {},
   "outputs": [
    {
     "ename": "TypeError",
     "evalue": "ufunc 'subtract' output (typecode 'O') could not be coerced to provided output parameter (typecode 'd') according to the casting rule ''same_kind''",
     "output_type": "error",
     "traceback": [
      "\u001b[1;31m---------------------------------------------------------------------------\u001b[0m",
      "\u001b[1;31mTypeError\u001b[0m                                 Traceback (most recent call last)",
      "\u001b[1;32m<ipython-input-16-f94fcd4fec4a>\u001b[0m in \u001b[0;36m<module>\u001b[1;34m\u001b[0m\n\u001b[1;32m----> 1\u001b[1;33m \u001b[0mw\u001b[0m \u001b[1;33m=\u001b[0m \u001b[0msvm_sgd\u001b[0m\u001b[1;33m(\u001b[0m\u001b[0mx\u001b[0m\u001b[1;33m,\u001b[0m \u001b[0my\u001b[0m\u001b[1;33m)\u001b[0m\u001b[1;33m\u001b[0m\u001b[1;33m\u001b[0m\u001b[0m\n\u001b[0m\u001b[0;32m      2\u001b[0m \u001b[0mprint\u001b[0m\u001b[1;33m(\u001b[0m\u001b[0mw\u001b[0m\u001b[1;33m)\u001b[0m\u001b[1;33m\u001b[0m\u001b[1;33m\u001b[0m\u001b[0m\n\u001b[0;32m      3\u001b[0m \u001b[1;33m\u001b[0m\u001b[0m\n\u001b[0;32m      4\u001b[0m \u001b[0my_test\u001b[0m \u001b[1;33m=\u001b[0m \u001b[0mnp\u001b[0m\u001b[1;33m.\u001b[0m\u001b[0msign\u001b[0m\u001b[1;33m(\u001b[0m\u001b[0mnp\u001b[0m\u001b[1;33m.\u001b[0m\u001b[0mdot\u001b[0m\u001b[1;33m(\u001b[0m\u001b[0mx\u001b[0m\u001b[1;33m,\u001b[0m \u001b[0mw\u001b[0m\u001b[1;33m)\u001b[0m\u001b[1;33m)\u001b[0m\u001b[1;33m\u001b[0m\u001b[1;33m\u001b[0m\u001b[0m\n\u001b[0;32m      5\u001b[0m \u001b[1;33m\u001b[0m\u001b[0m\n",
      "\u001b[1;32m<ipython-input-15-0617702d2785>\u001b[0m in \u001b[0;36msvm_sgd\u001b[1;34m(X, y)\u001b[0m\n\u001b[0;32m     14\u001b[0m                 \u001b[0mw\u001b[0m\u001b[1;33m[\u001b[0m\u001b[1;33m:\u001b[0m\u001b[1;33m-\u001b[0m\u001b[1;36m1\u001b[0m\u001b[1;33m]\u001b[0m \u001b[1;33m-=\u001b[0m \u001b[0mh\u001b[0m\u001b[1;33m*\u001b[0m\u001b[1;33m(\u001b[0m\u001b[0mw\u001b[0m\u001b[1;33m[\u001b[0m\u001b[1;33m:\u001b[0m\u001b[1;33m-\u001b[0m\u001b[1;36m1\u001b[0m\u001b[1;33m]\u001b[0m\u001b[1;33m)\u001b[0m\u001b[1;33m/\u001b[0m \u001b[0mlen\u001b[0m\u001b[1;33m(\u001b[0m\u001b[0mX_\u001b[0m\u001b[1;33m)\u001b[0m\u001b[1;33m\u001b[0m\u001b[1;33m\u001b[0m\u001b[0m\n\u001b[0;32m     15\u001b[0m             \u001b[1;32melse\u001b[0m\u001b[1;33m:\u001b[0m\u001b[1;33m\u001b[0m\u001b[1;33m\u001b[0m\u001b[0m\n\u001b[1;32m---> 16\u001b[1;33m                 \u001b[0mw\u001b[0m\u001b[1;33m[\u001b[0m\u001b[1;33m:\u001b[0m\u001b[1;33m-\u001b[0m\u001b[1;36m1\u001b[0m\u001b[1;33m]\u001b[0m \u001b[1;33m-=\u001b[0m \u001b[0mh\u001b[0m\u001b[1;33m*\u001b[0m\u001b[1;33m(\u001b[0m\u001b[0mw\u001b[0m\u001b[1;33m[\u001b[0m\u001b[1;33m:\u001b[0m\u001b[1;33m-\u001b[0m\u001b[1;36m1\u001b[0m\u001b[1;33m]\u001b[0m\u001b[1;33m)\u001b[0m\u001b[1;33m-\u001b[0m \u001b[0mX_\u001b[0m\u001b[1;33m[\u001b[0m\u001b[0mi\u001b[0m\u001b[1;33m]\u001b[0m\u001b[1;33m[\u001b[0m\u001b[1;33m:\u001b[0m\u001b[1;33m-\u001b[0m\u001b[1;36m1\u001b[0m\u001b[1;33m]\u001b[0m\u001b[1;33m*\u001b[0m\u001b[0my_\u001b[0m\u001b[1;33m[\u001b[0m\u001b[0mi\u001b[0m\u001b[1;33m]\u001b[0m\u001b[1;33m/\u001b[0m \u001b[0mlen\u001b[0m\u001b[1;33m(\u001b[0m\u001b[0mX_\u001b[0m\u001b[1;33m)\u001b[0m\u001b[1;33m\u001b[0m\u001b[1;33m\u001b[0m\u001b[0m\n\u001b[0m\u001b[0;32m     17\u001b[0m                 \u001b[0mw\u001b[0m\u001b[1;33m[\u001b[0m\u001b[1;33m-\u001b[0m\u001b[1;36m1\u001b[0m\u001b[1;33m]\u001b[0m \u001b[1;33m=\u001b[0m \u001b[0mh\u001b[0m\u001b[1;33m*\u001b[0m\u001b[0my_\u001b[0m\u001b[1;33m[\u001b[0m\u001b[0mi\u001b[0m\u001b[1;33m]\u001b[0m\u001b[1;33m\u001b[0m\u001b[1;33m\u001b[0m\u001b[0m\n\u001b[0;32m     18\u001b[0m         \u001b[1;32mreturn\u001b[0m \u001b[0mw\u001b[0m\u001b[1;33m\u001b[0m\u001b[1;33m\u001b[0m\u001b[0m\n",
      "\u001b[1;31mTypeError\u001b[0m: ufunc 'subtract' output (typecode 'O') could not be coerced to provided output parameter (typecode 'd') according to the casting rule ''same_kind''"
     ]
    }
   ],
   "source": [
    "w = svm_sgd(x, y)\n",
    "print(w)\n",
    "\n",
    "y_test = np.sign(np.dot(x, w))\n",
    "\n",
    "plt.plot([0, w[-1]/w[0]], [w[-1]/w[1], 0], marker='s')\n",
    "plt.scatter(x[:, 0], x[:, 1], c='r', cmap=plt.cm.Paired)\n",
    "# plt.scatter(X_test[:,0], X_test[:,1], c=[d1[y] for y in y_pred])\n",
    "plt.show()\n",
    "\n",
    "# максимально широкий коридор"
   ]
  },
  {
   "cell_type": "code",
   "execution_count": null,
   "metadata": {},
   "outputs": [],
   "source": []
  }
 ],
 "metadata": {
  "kernelspec": {
   "display_name": "Python 3",
   "language": "python",
   "name": "python3"
  },
  "language_info": {
   "codemirror_mode": {
    "name": "ipython",
    "version": 3
   },
   "file_extension": ".py",
   "mimetype": "text/x-python",
   "name": "python",
   "nbconvert_exporter": "python",
   "pygments_lexer": "ipython3",
   "version": "3.7.6"
  }
 },
 "nbformat": 4,
 "nbformat_minor": 4
}
