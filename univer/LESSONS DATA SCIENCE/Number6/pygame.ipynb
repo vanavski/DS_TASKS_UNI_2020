{
 "cells": [
  {
   "cell_type": "code",
   "execution_count": 2,
   "metadata": {},
   "outputs": [],
   "source": [
    "import numpy as np\n",
    "import matplotlib.pyplot as plt\n",
    "import pygame as pg\n",
    "import keyboard as kb"
   ]
  },
  {
   "cell_type": "code",
   "execution_count": 3,
   "metadata": {},
   "outputs": [
    {
     "name": "stderr",
     "output_type": "stream",
     "text": [
      "<string>:6: VisibleDeprecationWarning: Creating an ndarray from ragged nested sequences (which is a list-or-tuple of lists-or-tuples-or ndarrays with different lengths or shapes) is deprecated. If you meant to do this, you must specify 'dtype=object' when creating the ndarray\n"
     ]
    }
   ],
   "source": [
    "data = np.empty((0,3), dtype='f')\n",
    "colorChosen = False\n",
    "colors = []\n",
    "\n",
    "def createData(position, color):\n",
    "    (x, y) = position \n",
    "    r = np.random.uniform(0, 30)\n",
    "    phi = np.random.uniform(0, 2*np.pi)\n",
    "    coord = [x + r*np.cos(phi), y + r*np.sin(phi), color]\n",
    "    global data\n",
    "    data = np.append(data, [coord], axis=0)\n",
    "    \n",
    "       \n",
    "radius = 2\n",
    "thickness = 0\n",
    "\n",
    "colors = {pg.K_1:(243, 34, 246),\n",
    "          pg.K_2:(0, 191, 255),\n",
    "          pg.K_3: (191, 0, 255)}\n",
    "color = colors[pg.K_1]\n",
    "\n",
    "bbb = (255,255,255)\n",
    "(width, height) = (650, 480)\n",
    "screen = pg.display.set_mode((width, height))\n",
    "pg.display.set_caption(\"DataGenerator\")\n",
    "\n",
    "running = True\n",
    "pushing = False\n",
    "\n",
    "while running: \n",
    "    \n",
    "    for event in pg.event.get(): \n",
    "        if event.type == pg.QUIT:\n",
    "            running = False              \n",
    "        elif event.type == pg.MOUSEBUTTONDOWN:\n",
    "            pushing = True\n",
    "        elif event.type == pg.MOUSEBUTTONUP:\n",
    "            pushing = False\n",
    "        elif event.type == pg.KEYDOWN and event.key in colors:\n",
    "            color = colors[event.key]\n",
    "\n",
    "    if pushing and np.random.uniform(0, 1) > 0.9:\n",
    "        createData(pg.mouse.get_pos(), color)\n",
    "            \n",
    "    screen.fill(bbb)\n",
    "    for point in data:\n",
    "        pg.draw.circle(screen, point[2], (int(point[0]), int(point[1])), radius, thickness)\n",
    "        \n",
    "    pg.display.flip()\n",
    "    \n",
    "pg.quit()"
   ]
  },
  {
   "cell_type": "code",
   "execution_count": 8,
   "metadata": {},
   "outputs": [
    {
     "data": {
      "text/plain": [
       "(243, 34, 246)"
      ]
     },
     "execution_count": 8,
     "metadata": {},
     "output_type": "execute_result"
    }
   ],
   "source": [
    "data[0][2]"
   ]
  },
  {
   "cell_type": "code",
   "execution_count": null,
   "metadata": {},
   "outputs": [],
   "source": []
  }
 ],
 "metadata": {
  "kernelspec": {
   "display_name": "Python 3",
   "language": "python",
   "name": "python3"
  },
  "language_info": {
   "codemirror_mode": {
    "name": "ipython",
    "version": 3
   },
   "file_extension": ".py",
   "mimetype": "text/x-python",
   "name": "python",
   "nbconvert_exporter": "python",
   "pygments_lexer": "ipython3",
   "version": "3.7.6"
  }
 },
 "nbformat": 4,
 "nbformat_minor": 4
}
