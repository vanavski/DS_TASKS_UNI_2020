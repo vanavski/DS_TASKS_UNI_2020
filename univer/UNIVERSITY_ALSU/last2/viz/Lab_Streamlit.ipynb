{
 "cells": [
  {
   "cell_type": "markdown",
   "metadata": {
    "id": "D_W1yFuB-XtM"
   },
   "source": [
    "# Быстрое развертывание веб-приложения машинного обучения "
   ]
  },
  {
   "cell_type": "markdown",
   "metadata": {
    "id": "atswc1WP-XtM"
   },
   "source": [
    "# Streamlit\n",
    "\n",
    "Streamlit - это быстрый способ создать приложение для обработки данных\n",
    "\n",
    "Допустим, вам нужно быстро создать приложение для обработки данных. Он может прогуляться в себя панель инструментов и работать с моделью. Или, если вам нужен быстрый прототип для демонстрации заказчику, что можно сделать за несколько часов и бесплатно.\n",
    "\n",
    "Streamlit идеально подходит для этих задач. \n",
    "\n",
    "ВСделаем очень простой дашборд с выбором типа ирисов и построением гистограмм. Также в Streamlit вы можете обучать и создавать модели вывода."
   ]
  },
  {
   "cell_type": "code",
   "execution_count": 2,
   "metadata": {
    "id": "ygS5wlk5-XtM"
   },
   "outputs": [
    {
     "name": "stdout",
     "output_type": "stream",
     "text": [
      "Collecting streamlit\n",
      "  Downloading streamlit-0.72.0-py2.py3-none-any.whl (7.4 MB)\n",
      "Collecting base58\n",
      "  Downloading base58-2.0.1-py3-none-any.whl (4.3 kB)\n",
      "Requirement already satisfied: astor in c:\\programs\\anaconda\\lib\\site-packages (from streamlit) (0.8.1)\n",
      "Requirement already satisfied: numpy in c:\\programs\\anaconda\\lib\\site-packages (from streamlit) (1.19.1)\n",
      "Requirement already satisfied: tornado>=5.0 in c:\\programs\\anaconda\\lib\\site-packages (from streamlit) (6.0.4)\n",
      "Requirement already satisfied: toml in c:\\programs\\anaconda\\lib\\site-packages (from streamlit) (0.10.1)\n",
      "Collecting tzlocal\n",
      "  Downloading tzlocal-2.1-py2.py3-none-any.whl (16 kB)\n",
      "Collecting gitpython\n",
      "  Downloading GitPython-3.1.11-py3-none-any.whl (159 kB)\n",
      "Requirement already satisfied: protobuf!=3.11,>=3.6.0 in c:\\programs\\anaconda\\lib\\site-packages (from streamlit) (3.13.0)\n",
      "Collecting watchdog\n",
      "  Downloading watchdog-1.0.1.tar.gz (97 kB)\n",
      "Collecting pyarrow\n",
      "  Downloading pyarrow-2.0.0-cp37-cp37m-win_amd64.whl (10.7 MB)\n",
      "Requirement already satisfied: pandas>=0.21.0 in c:\\programs\\anaconda\\lib\\site-packages (from streamlit) (1.1.3)\n",
      "Requirement already satisfied: packaging in c:\\programs\\anaconda\\lib\\site-packages (from streamlit) (20.4)\n",
      "Requirement already satisfied: click>=7.0 in c:\\programs\\anaconda\\lib\\site-packages (from streamlit) (7.1.2)\n",
      "Collecting validators\n",
      "  Downloading validators-0.18.1-py3-none-any.whl (19 kB)\n",
      "Requirement already satisfied: blinker in c:\\programs\\anaconda\\lib\\site-packages (from streamlit) (1.4)\n",
      "Requirement already satisfied: python-dateutil in c:\\programs\\anaconda\\lib\\site-packages (from streamlit) (2.8.1)\n",
      "Collecting pydeck>=0.1.dev5\n",
      "  Downloading pydeck-0.5.0-py2.py3-none-any.whl (4.5 MB)\n",
      "Requirement already satisfied: cachetools>=4.0 in c:\\programs\\anaconda\\lib\\site-packages (from streamlit) (4.1.1)\n",
      "Requirement already satisfied: requests in c:\\programs\\anaconda\\lib\\site-packages (from streamlit) (2.24.0)\n",
      "Collecting altair>=3.2.0\n",
      "  Downloading altair-4.1.0-py3-none-any.whl (727 kB)\n",
      "Requirement already satisfied: pillow>=6.2.0 in c:\\programs\\anaconda\\lib\\site-packages (from streamlit) (7.2.0)\n",
      "Requirement already satisfied: pytz in c:\\programs\\anaconda\\lib\\site-packages (from tzlocal->streamlit) (2020.1)\n",
      "Collecting gitdb<5,>=4.0.1\n",
      "  Downloading gitdb-4.0.5-py3-none-any.whl (63 kB)\n",
      "Requirement already satisfied: six>=1.9 in c:\\programs\\anaconda\\lib\\site-packages (from protobuf!=3.11,>=3.6.0->streamlit) (1.15.0)\n",
      "Requirement already satisfied: setuptools in c:\\programs\\anaconda\\lib\\site-packages (from protobuf!=3.11,>=3.6.0->streamlit) (49.6.0.post20200814)\n",
      "Requirement already satisfied: pyparsing>=2.0.2 in c:\\programs\\anaconda\\lib\\site-packages (from packaging->streamlit) (2.4.7)\n",
      "Requirement already satisfied: decorator>=3.4.0 in c:\\programs\\anaconda\\lib\\site-packages (from validators->streamlit) (4.4.2)\n",
      "Requirement already satisfied: traitlets>=4.3.2 in c:\\programs\\anaconda\\lib\\site-packages (from pydeck>=0.1.dev5->streamlit) (4.3.3)\n",
      "Requirement already satisfied: ipykernel>=5.1.2; python_version >= \"3.4\" in c:\\programs\\anaconda\\lib\\site-packages (from pydeck>=0.1.dev5->streamlit) (5.3.4)\n",
      "Requirement already satisfied: ipywidgets>=7.0.0 in c:\\programs\\anaconda\\lib\\site-packages (from pydeck>=0.1.dev5->streamlit) (7.5.1)\n",
      "Requirement already satisfied: jinja2>=2.10.1 in c:\\programs\\anaconda\\lib\\site-packages (from pydeck>=0.1.dev5->streamlit) (2.11.2)\n",
      "Requirement already satisfied: certifi>=2017.4.17 in c:\\programs\\anaconda\\lib\\site-packages (from requests->streamlit) (2020.11.8)\n",
      "Requirement already satisfied: idna<3,>=2.5 in c:\\programs\\anaconda\\lib\\site-packages (from requests->streamlit) (2.10)\n",
      "Requirement already satisfied: urllib3!=1.25.0,!=1.25.1,<1.26,>=1.21.1 in c:\\programs\\anaconda\\lib\\site-packages (from requests->streamlit) (1.25.10)\n",
      "Requirement already satisfied: chardet<4,>=3.0.2 in c:\\programs\\anaconda\\lib\\site-packages (from requests->streamlit) (3.0.4)\n",
      "Requirement already satisfied: entrypoints in c:\\programs\\anaconda\\lib\\site-packages (from altair>=3.2.0->streamlit) (0.3)\n",
      "Collecting toolz\n",
      "  Downloading toolz-0.11.1-py3-none-any.whl (55 kB)\n",
      "Requirement already satisfied: jsonschema in c:\\programs\\anaconda\\lib\\site-packages (from altair>=3.2.0->streamlit) (3.2.0)\n",
      "Collecting smmap<4,>=3.0.1\n",
      "  Downloading smmap-3.0.4-py2.py3-none-any.whl (25 kB)\n",
      "Requirement already satisfied: ipython-genutils in c:\\programs\\anaconda\\lib\\site-packages (from traitlets>=4.3.2->pydeck>=0.1.dev5->streamlit) (0.2.0)\n",
      "Requirement already satisfied: ipython>=5.0.0 in c:\\programs\\anaconda\\lib\\site-packages (from ipykernel>=5.1.2; python_version >= \"3.4\"->pydeck>=0.1.dev5->streamlit) (7.18.1)\n",
      "Requirement already satisfied: jupyter-client in c:\\programs\\anaconda\\lib\\site-packages (from ipykernel>=5.1.2; python_version >= \"3.4\"->pydeck>=0.1.dev5->streamlit) (6.1.6)\n",
      "Requirement already satisfied: widgetsnbextension~=3.5.0 in c:\\programs\\anaconda\\lib\\site-packages (from ipywidgets>=7.0.0->pydeck>=0.1.dev5->streamlit) (3.5.1)\n",
      "Requirement already satisfied: nbformat>=4.2.0 in c:\\programs\\anaconda\\lib\\site-packages (from ipywidgets>=7.0.0->pydeck>=0.1.dev5->streamlit) (5.0.7)\n",
      "Requirement already satisfied: MarkupSafe>=0.23 in c:\\programs\\anaconda\\lib\\site-packages (from jinja2>=2.10.1->pydeck>=0.1.dev5->streamlit) (1.1.1)\n",
      "Requirement already satisfied: importlib-metadata; python_version < \"3.8\" in c:\\programs\\anaconda\\lib\\site-packages (from jsonschema->altair>=3.2.0->streamlit) (1.7.0)\n",
      "Requirement already satisfied: attrs>=17.4.0 in c:\\programs\\anaconda\\lib\\site-packages (from jsonschema->altair>=3.2.0->streamlit) (20.1.0)\n",
      "Requirement already satisfied: pyrsistent>=0.14.0 in c:\\programs\\anaconda\\lib\\site-packages (from jsonschema->altair>=3.2.0->streamlit) (0.16.0)\n",
      "Requirement already satisfied: pickleshare in c:\\programs\\anaconda\\lib\\site-packages (from ipython>=5.0.0->ipykernel>=5.1.2; python_version >= \"3.4\"->pydeck>=0.1.dev5->streamlit) (0.7.5)\n",
      "Requirement already satisfied: jedi>=0.10 in c:\\programs\\anaconda\\lib\\site-packages (from ipython>=5.0.0->ipykernel>=5.1.2; python_version >= \"3.4\"->pydeck>=0.1.dev5->streamlit) (0.17.2)\n",
      "Requirement already satisfied: prompt-toolkit!=3.0.0,!=3.0.1,<3.1.0,>=2.0.0 in c:\\programs\\anaconda\\lib\\site-packages (from ipython>=5.0.0->ipykernel>=5.1.2; python_version >= \"3.4\"->pydeck>=0.1.dev5->streamlit) (3.0.7)\n",
      "Requirement already satisfied: colorama; sys_platform == \"win32\" in c:\\programs\\anaconda\\lib\\site-packages (from ipython>=5.0.0->ipykernel>=5.1.2; python_version >= \"3.4\"->pydeck>=0.1.dev5->streamlit) (0.4.3)\n",
      "Requirement already satisfied: pygments in c:\\programs\\anaconda\\lib\\site-packages (from ipython>=5.0.0->ipykernel>=5.1.2; python_version >= \"3.4\"->pydeck>=0.1.dev5->streamlit) (2.6.1)\n",
      "Requirement already satisfied: backcall in c:\\programs\\anaconda\\lib\\site-packages (from ipython>=5.0.0->ipykernel>=5.1.2; python_version >= \"3.4\"->pydeck>=0.1.dev5->streamlit) (0.2.0)\n",
      "Requirement already satisfied: jupyter-core>=4.6.0 in c:\\programs\\anaconda\\lib\\site-packages (from jupyter-client->ipykernel>=5.1.2; python_version >= \"3.4\"->pydeck>=0.1.dev5->streamlit) (4.6.3)\n",
      "Requirement already satisfied: pyzmq>=13 in c:\\programs\\anaconda\\lib\\site-packages (from jupyter-client->ipykernel>=5.1.2; python_version >= \"3.4\"->pydeck>=0.1.dev5->streamlit) (19.0.1)\n",
      "Requirement already satisfied: notebook>=4.4.1 in c:\\programs\\anaconda\\lib\\site-packages (from widgetsnbextension~=3.5.0->ipywidgets>=7.0.0->pydeck>=0.1.dev5->streamlit) (6.1.1)\n",
      "Requirement already satisfied: zipp>=0.5 in c:\\programs\\anaconda\\lib\\site-packages (from importlib-metadata; python_version < \"3.8\"->jsonschema->altair>=3.2.0->streamlit) (3.1.0)\n",
      "Requirement already satisfied: parso<0.8.0,>=0.7.0 in c:\\programs\\anaconda\\lib\\site-packages (from jedi>=0.10->ipython>=5.0.0->ipykernel>=5.1.2; python_version >= \"3.4\"->pydeck>=0.1.dev5->streamlit) (0.7.0)\n",
      "Requirement already satisfied: wcwidth in c:\\programs\\anaconda\\lib\\site-packages (from prompt-toolkit!=3.0.0,!=3.0.1,<3.1.0,>=2.0.0->ipython>=5.0.0->ipykernel>=5.1.2; python_version >= \"3.4\"->pydeck>=0.1.dev5->streamlit) (0.2.5)\n",
      "Requirement already satisfied: pywin32>=1.0; sys_platform == \"win32\" in c:\\programs\\anaconda\\lib\\site-packages (from jupyter-core>=4.6.0->jupyter-client->ipykernel>=5.1.2; python_version >= \"3.4\"->pydeck>=0.1.dev5->streamlit) (227)\n"
     ]
    },
    {
     "name": "stdout",
     "output_type": "stream",
     "text": [
      "Requirement already satisfied: Send2Trash in c:\\programs\\anaconda\\lib\\site-packages (from notebook>=4.4.1->widgetsnbextension~=3.5.0->ipywidgets>=7.0.0->pydeck>=0.1.dev5->streamlit) (1.5.0)\n",
      "Requirement already satisfied: argon2-cffi in c:\\programs\\anaconda\\lib\\site-packages (from notebook>=4.4.1->widgetsnbextension~=3.5.0->ipywidgets>=7.0.0->pydeck>=0.1.dev5->streamlit) (20.1.0)\n",
      "Requirement already satisfied: terminado>=0.8.3 in c:\\programs\\anaconda\\lib\\site-packages (from notebook>=4.4.1->widgetsnbextension~=3.5.0->ipywidgets>=7.0.0->pydeck>=0.1.dev5->streamlit) (0.8.3)\n",
      "Requirement already satisfied: prometheus-client in c:\\programs\\anaconda\\lib\\site-packages (from notebook>=4.4.1->widgetsnbextension~=3.5.0->ipywidgets>=7.0.0->pydeck>=0.1.dev5->streamlit) (0.8.0)\n",
      "Requirement already satisfied: nbconvert in c:\\programs\\anaconda\\lib\\site-packages (from notebook>=4.4.1->widgetsnbextension~=3.5.0->ipywidgets>=7.0.0->pydeck>=0.1.dev5->streamlit) (5.6.1)\n",
      "Requirement already satisfied: cffi>=1.0.0 in c:\\programs\\anaconda\\lib\\site-packages (from argon2-cffi->notebook>=4.4.1->widgetsnbextension~=3.5.0->ipywidgets>=7.0.0->pydeck>=0.1.dev5->streamlit) (1.14.2)\n",
      "Requirement already satisfied: mistune<2,>=0.8.1 in c:\\programs\\anaconda\\lib\\site-packages (from nbconvert->notebook>=4.4.1->widgetsnbextension~=3.5.0->ipywidgets>=7.0.0->pydeck>=0.1.dev5->streamlit) (0.8.4)\n",
      "Requirement already satisfied: bleach in c:\\programs\\anaconda\\lib\\site-packages (from nbconvert->notebook>=4.4.1->widgetsnbextension~=3.5.0->ipywidgets>=7.0.0->pydeck>=0.1.dev5->streamlit) (3.1.5)\n",
      "Requirement already satisfied: testpath in c:\\programs\\anaconda\\lib\\site-packages (from nbconvert->notebook>=4.4.1->widgetsnbextension~=3.5.0->ipywidgets>=7.0.0->pydeck>=0.1.dev5->streamlit) (0.4.4)\n",
      "Requirement already satisfied: defusedxml in c:\\programs\\anaconda\\lib\\site-packages (from nbconvert->notebook>=4.4.1->widgetsnbextension~=3.5.0->ipywidgets>=7.0.0->pydeck>=0.1.dev5->streamlit) (0.6.0)\n",
      "Requirement already satisfied: pandocfilters>=1.4.1 in c:\\programs\\anaconda\\lib\\site-packages (from nbconvert->notebook>=4.4.1->widgetsnbextension~=3.5.0->ipywidgets>=7.0.0->pydeck>=0.1.dev5->streamlit) (1.4.2)\n",
      "Requirement already satisfied: pycparser in c:\\programs\\anaconda\\lib\\site-packages (from cffi>=1.0.0->argon2-cffi->notebook>=4.4.1->widgetsnbextension~=3.5.0->ipywidgets>=7.0.0->pydeck>=0.1.dev5->streamlit) (2.20)\n",
      "Requirement already satisfied: webencodings in c:\\programs\\anaconda\\lib\\site-packages (from bleach->nbconvert->notebook>=4.4.1->widgetsnbextension~=3.5.0->ipywidgets>=7.0.0->pydeck>=0.1.dev5->streamlit) (0.5.1)\n",
      "Building wheels for collected packages: watchdog\n",
      "  Building wheel for watchdog (setup.py): started\n",
      "  Building wheel for watchdog (setup.py): finished with status 'done'\n",
      "  Created wheel for watchdog: filename=watchdog-1.0.1-py3-none-any.whl size=72208 sha256=7be3a8eafbab930aad43991e1dae66f2606bd2cdf46e0ee3f1961900462c4645\n",
      "  Stored in directory: c:\\users\\vadim\\appdata\\local\\pip\\cache\\wheels\\1d\\3d\\5d\\3788fbd727d756019a83b013e46d40821b089ea9bc4584df71\n",
      "Successfully built watchdog\n",
      "Installing collected packages: base58, tzlocal, smmap, gitdb, gitpython, watchdog, pyarrow, validators, pydeck, toolz, altair, streamlit\n",
      "Successfully installed altair-4.1.0 base58-2.0.1 gitdb-4.0.5 gitpython-3.1.11 pyarrow-2.0.0 pydeck-0.5.0 smmap-3.0.4 streamlit-0.72.0 toolz-0.11.1 tzlocal-2.1 validators-0.18.1 watchdog-1.0.1\n"
     ]
    }
   ],
   "source": [
    "### УСТАНОВКА\n",
    "!pip install streamlit"
   ]
  },
  {
   "cell_type": "markdown",
   "metadata": {
    "id": "JYvUiEUG-XtM"
   },
   "source": [
    "В этих строках мы импортируем библиотеки streamlit и pandas, назначая им, соответственно, псевдонимы st и pd. Мы, кроме того, импортируем пакет datasets из библиотеки scikit-learn (sklearn). Мы воспользуемся этим пакетом ниже, в команде iris = datasets.load_iris(), для загрузки интересующего нас набора данных. И наконец, тут мы импортируем функцию RandomForestClassifier() из пакета sklearn.ensemble."
   ]
  },
  {
   "cell_type": "code",
   "execution_count": 3,
   "metadata": {
    "id": "JW7pNGc9-XtM"
   },
   "outputs": [],
   "source": [
    "import streamlit as st\n",
    "import pandas as pd\n",
    "from sklearn import datasets\n",
    "from sklearn.ensemble import RandomForestClassifier"
   ]
  },
  {
   "cell_type": "markdown",
   "metadata": {
    "id": "xFf9GlKM-XtN"
   },
   "source": [
    "В этой строке мы описываем заголовок боковой панели, используя функцию st.sidebar.header(). Обратите внимание на то, что тут sidebar стоит между st и header(), что и даёт полное имя функции st.sidebar.header(). Эта функция сообщает библиотеке streamlit о том, что мы хотим поместить заголовок в боковую панель."
   ]
  },
  {
   "cell_type": "code",
   "execution_count": 4,
   "metadata": {
    "id": "lDYwq_AW-XtN",
    "outputId": "3989257f-fa87-407b-f2d7-a4e23e04aee8"
   },
   "outputs": [
    {
     "data": {
      "text/plain": [
       "<streamlit.delta_generator.DeltaGenerator at 0x2f6d7441448>"
      ]
     },
     "execution_count": 4,
     "metadata": {},
     "output_type": "execute_result"
    }
   ],
   "source": [
    "st.sidebar.header('User Input Parameters')"
   ]
  },
  {
   "cell_type": "code",
   "execution_count": null,
   "metadata": {
    "id": "kzGcCTM_-XtN"
   },
   "outputs": [],
   "source": []
  },
  {
   "cell_type": "markdown",
   "metadata": {
    "id": "4J1IR_1T-XtN"
   },
   "source": [
    "Здесь мы объявляем функцию user_input_features(), которая берёт данные, введённые пользователем (то есть — четыре характеристики цветка, которые вводятся с использованием ползунков), и возвращает результат в виде датафрейма. Стоит отметить, что каждый входной параметр вводится в систему с помощью ползунка. Например, ползунок для ввода длины чашелистика (sepal length) описывается так: st.sidebar.slider(‘Sepal length’, 4.3, 7.9, 5.4). Первый из четырёх входных аргументов этой функции задаёт подпись ползунка, выводимую выше него. Это, в данном случае, текст Sepal length. Два следующих аргумента задают минимальное и максимальное значения, которые можно задавать с помощью ползунка. Последний аргумент задаёт значение, выставляемое на ползунке по умолчанию, при загрузке страницы. Здесь это — 5.4."
   ]
  },
  {
   "cell_type": "code",
   "execution_count": 5,
   "metadata": {
    "id": "Auw3bqKA-XtN"
   },
   "outputs": [],
   "source": [
    "def user_input_features():\n",
    "    sepal_length = st.sidebar.slider('Sepal length', 4.3, 7.9, 5.4)\n",
    "    sepal_width = st.sidebar.slider('Sepal width', 2.0, 4.4, 3.4)\n",
    "    petal_length = st.sidebar.slider('Petal length', 1.0, 6.9, 1.3)\n",
    "    petal_width = st.sidebar.slider('Petal width', 0.1, 2.5, 0.2)\n",
    "    data = {'sepal_length': sepal_length,\n",
    "            'sepal_width': sepal_width,\n",
    "            'petal_length': petal_length,\n",
    "            'petal_width': petal_width}\n",
    "    features = pd.DataFrame(data, index=[0])\n",
    "    return features"
   ]
  },
  {
   "cell_type": "code",
   "execution_count": 6,
   "metadata": {
    "id": "0rnh7cKi-XtN"
   },
   "outputs": [],
   "source": [
    "df = user_input_features()"
   ]
  },
  {
   "cell_type": "markdown",
   "metadata": {
    "id": "1zwGbd9v-XtN"
   },
   "source": [
    "Здесь датафрейм, сформированный функцией user_input_features() записываем в переменную df."
   ]
  },
  {
   "cell_type": "code",
   "execution_count": 7,
   "metadata": {
    "id": "fnk9lEdl-XtN"
   },
   "outputs": [],
   "source": [
    "iris = datasets.load_iris()"
   ]
  },
  {
   "cell_type": "markdown",
   "metadata": {
    "id": "5Pn-fHEb-XtN"
   },
   "source": [
    "Загрузка набора данных Iris из пакета sklearn.datasets и запись его в переменную iris."
   ]
  },
  {
   "cell_type": "markdown",
   "metadata": {
    "id": "mTEJPcpu-XtN"
   },
   "source": [
    "Создание переменной Х, содержащей сведения о 4 характеристиках цветка, которые имеются в iris.data.\n",
    "\n",
    "\n",
    "Создание переменной Y, которая содержит сведения о виде цветка. Эти сведения хранятся в iris.target."
   ]
  },
  {
   "cell_type": "code",
   "execution_count": 8,
   "metadata": {
    "id": "te-fJMWI-XtN"
   },
   "outputs": [],
   "source": [
    "X = iris.data\n",
    "Y = iris.target"
   ]
  },
  {
   "cell_type": "markdown",
   "metadata": {
    "id": "qTb6U0z--XtN"
   },
   "source": [
    "\n",
    "Здесь мы, пользуясь функцией RandomForestClassifier(), назначаем классификатор, основанный на алгоритме «случайный лес», переменной clf"
   ]
  },
  {
   "cell_type": "code",
   "execution_count": 9,
   "metadata": {
    "id": "lJ9DOL06-XtN"
   },
   "outputs": [],
   "source": [
    "clf = RandomForestClassifier()"
   ]
  },
  {
   "cell_type": "markdown",
   "metadata": {
    "id": "ZlNOgrSl-XtN"
   },
   "source": [
    "Здесь мы, пользуясь функцией RandomForestClassifier(), назначаем классификатор, основанный на алгоритме «случайный лес», переменной clf."
   ]
  },
  {
   "cell_type": "code",
   "execution_count": 10,
   "metadata": {
    "id": "3Uvh8duP-XtN",
    "outputId": "aa36bc21-7917-4fd1-f874-edf473e78a21"
   },
   "outputs": [
    {
     "data": {
      "text/plain": [
       "RandomForestClassifier()"
      ]
     },
     "execution_count": 10,
     "metadata": {},
     "output_type": "execute_result"
    }
   ],
   "source": [
    "clf.fit(X, Y)"
   ]
  },
  {
   "cell_type": "markdown",
   "metadata": {
    "id": "fBh1mWNJ-XtO"
   },
   "source": [
    "\n",
    "Получение сведений о виде цветка с помощью обученной модели."
   ]
  },
  {
   "cell_type": "code",
   "execution_count": 11,
   "metadata": {
    "id": "F_ncrPzW-XtO"
   },
   "outputs": [],
   "source": [
    "prediction = clf.predict(df)"
   ]
  },
  {
   "cell_type": "markdown",
   "metadata": {
    "id": "0EjgTXTc-XtO"
   },
   "source": [
    "\n",
    "Получение сведений о прогностической вероятности."
   ]
  },
  {
   "cell_type": "code",
   "execution_count": 12,
   "metadata": {
    "id": "f84aTbzw-XtO"
   },
   "outputs": [],
   "source": [
    "prediction_proba = clf.predict_proba(df)"
   ]
  },
  {
   "cell_type": "markdown",
   "metadata": {
    "id": "QdimK48O-XtO"
   },
   "source": [
    "# Формирование основной панели"
   ]
  },
  {
   "cell_type": "code",
   "execution_count": null,
   "metadata": {
    "id": "9P0SkKX--XtO"
   },
   "outputs": [],
   "source": []
  },
  {
   "cell_type": "markdown",
   "metadata": {
    "id": "kLEc7Qj_-XtO"
   },
   "source": [
    "Здесь мы, пользуясь функцией st.write(), выводим текст. А именно, речь идёт о заголовке, выводимом в главной панели приложения, текст которого задан в формате Markdown. Символ # используется для указания того, что текст является заголовком. За строкой заголовка идёт строка обычного текста"
   ]
  },
  {
   "cell_type": "code",
   "execution_count": 13,
   "metadata": {
    "id": "VhQUfiYR-XtO"
   },
   "outputs": [],
   "source": [
    "st.write(\"\"\"\n",
    "# Simple example!\n",
    "\"\"\")"
   ]
  },
  {
   "cell_type": "code",
   "execution_count": 25,
   "metadata": {},
   "outputs": [
    {
     "data": {
      "text/html": [
       "<div>\n",
       "<style scoped>\n",
       "    .dataframe tbody tr th:only-of-type {\n",
       "        vertical-align: middle;\n",
       "    }\n",
       "\n",
       "    .dataframe tbody tr th {\n",
       "        vertical-align: top;\n",
       "    }\n",
       "\n",
       "    .dataframe thead th {\n",
       "        text-align: right;\n",
       "    }\n",
       "</style>\n",
       "<table border=\"1\" class=\"dataframe\">\n",
       "  <thead>\n",
       "    <tr style=\"text-align: right;\">\n",
       "      <th></th>\n",
       "      <th>sepal_length</th>\n",
       "      <th>sepal_width</th>\n",
       "      <th>petal_length</th>\n",
       "      <th>petal_width</th>\n",
       "    </tr>\n",
       "  </thead>\n",
       "  <tbody>\n",
       "    <tr>\n",
       "      <th>0</th>\n",
       "      <td>5.4</td>\n",
       "      <td>3.4</td>\n",
       "      <td>1.3</td>\n",
       "      <td>0.2</td>\n",
       "    </tr>\n",
       "  </tbody>\n",
       "</table>\n",
       "</div>"
      ],
      "text/plain": [
       "   sepal_length  sepal_width  petal_length  petal_width\n",
       "0           5.4          3.4           1.3          0.2"
      ]
     },
     "execution_count": 25,
     "metadata": {},
     "output_type": "execute_result"
    }
   ],
   "source": [
    "df"
   ]
  },
  {
   "cell_type": "markdown",
   "metadata": {
    "id": "J7_CpQcn-XtO"
   },
   "source": [
    "В этой строке, пользуясь функцией st.subheader(), мы указываем подзаголовок, выводимый в основной панели. Этот подзаголовок используется для оформления раздела страницы, в котором будет выведено содержимое датафрейма, то есть того, что было введено пользователем с помощью ползунков."
   ]
  },
  {
   "cell_type": "code",
   "execution_count": 14,
   "metadata": {
    "id": "Yn6keJ7G-XtO"
   },
   "outputs": [],
   "source": [
    "st.write(df)"
   ]
  },
  {
   "cell_type": "markdown",
   "metadata": {
    "id": "F-jb3Ez0-XtO"
   },
   "source": [
    "Этой командой мы выводим на основную панель содержимое датафрейма df."
   ]
  },
  {
   "cell_type": "code",
   "execution_count": 15,
   "metadata": {
    "id": "fuHgTAuR-XtO",
    "outputId": "29837c5a-1a6f-441b-e3c8-10c48a8d5e48"
   },
   "outputs": [
    {
     "data": {
      "text/plain": [
       "<streamlit.delta_generator.DeltaGenerator at 0x2f6d7403088>"
      ]
     },
     "execution_count": 15,
     "metadata": {},
     "output_type": "execute_result"
    }
   ],
   "source": [
    "st.subheader('Class labels and their corresponding index number')"
   ]
  },
  {
   "cell_type": "markdown",
   "metadata": {
    "id": "UtjbOGBw-XtO"
   },
   "source": [
    "\n",
    "Данный код описывает второй подзаголовок основной панели. В этом разделе будут выведены данные о видах цветков."
   ]
  },
  {
   "cell_type": "code",
   "execution_count": 16,
   "metadata": {
    "id": "Co1FFSZG-XtO"
   },
   "outputs": [],
   "source": [
    "st.write(iris.target_names)"
   ]
  },
  {
   "cell_type": "markdown",
   "metadata": {
    "id": "3XJsMD5w-XtO"
   },
   "source": [
    "здесь, во второй раздел основной панели, выводятся названия видов цветков (setosa, versicolor и virginica) и соответствующие им номера (0, 1, 2)"
   ]
  },
  {
   "cell_type": "code",
   "execution_count": 17,
   "metadata": {
    "id": "pFpcI50A-XtO",
    "outputId": "5e9bdf41-ec56-4181-c4c6-18b5f52ce447"
   },
   "outputs": [
    {
     "data": {
      "text/plain": [
       "<streamlit.delta_generator.DeltaGenerator at 0x2f6d7403088>"
      ]
     },
     "execution_count": 17,
     "metadata": {},
     "output_type": "execute_result"
    }
   ],
   "source": [
    "st.subheader('Prediction')"
   ]
  },
  {
   "cell_type": "markdown",
   "metadata": {
    "id": "Z1NGgdE3-XtO"
   },
   "source": [
    "Вывод третьего подзаголовка для раздела, в котором будет находиться результат классификации."
   ]
  },
  {
   "cell_type": "markdown",
   "metadata": {
    "id": "sJR1DbwF-XtO"
   },
   "source": [
    "Вывод результата классификации. Стоит отметить, что содержимое переменной prediction — это номер вида цветка, выданный моделью на основе входных данных, введённых пользователем. Для того чтобы вывести название вида, используется конструкция iris.target_names[prediction]."
   ]
  },
  {
   "cell_type": "code",
   "execution_count": 18,
   "metadata": {
    "id": "vbqxn-jV-XtO"
   },
   "outputs": [],
   "source": [
    "st.write(iris.target_names[prediction])"
   ]
  },
  {
   "cell_type": "markdown",
   "metadata": {
    "id": "Hb4cv1Vd-XtO"
   },
   "source": [
    "Выводим заголовок четвёртого (и последнего) раздела основной панели. Здесь будут представлены данные о прогностической вероятности.\n"
   ]
  },
  {
   "cell_type": "code",
   "execution_count": 19,
   "metadata": {
    "id": "33btQ_ED-XtO",
    "outputId": "7884f843-550f-4167-e7c3-64fefb738f9a"
   },
   "outputs": [
    {
     "data": {
      "text/plain": [
       "<streamlit.delta_generator.DeltaGenerator at 0x2f6d7403088>"
      ]
     },
     "execution_count": 19,
     "metadata": {},
     "output_type": "execute_result"
    }
   ],
   "source": [
    "st.subheader('Prediction Probability')"
   ]
  },
  {
   "cell_type": "markdown",
   "metadata": {
    "id": "IUGEocDk-XtO"
   },
   "source": [
    "Вывод данных о прогностической вероятности."
   ]
  },
  {
   "cell_type": "code",
   "execution_count": 20,
   "metadata": {
    "id": "DdNN5w2P-XtO",
    "outputId": "11292b56-9e76-484f-c9fb-6c20eaa56d34"
   },
   "outputs": [],
   "source": [
    "st.write(prediction_proba)"
   ]
  },
  {
   "cell_type": "markdown",
   "metadata": {
    "id": "8UW4_11H-XtP"
   },
   "source": [
    "# Запуск веб-приложения"
   ]
  },
  {
   "cell_type": "code",
   "execution_count": 22,
   "metadata": {
    "id": "qilm-Xfq-XtP"
   },
   "outputs": [
    {
     "name": "stderr",
     "output_type": "stream",
     "text": [
      "Usage: streamlit run [OPTIONS] TARGET [ARGS]...\n",
      "\n",
      "Error: Invalid value: File does not exist: iris-ml-app.py\n"
     ]
    }
   ],
   "source": [
    "streamlit run filename.py"
   ]
  },
  {
   "cell_type": "code",
   "execution_count": null,
   "metadata": {
    "id": "LsJGGnS9-XtP"
   },
   "outputs": [],
   "source": [
    "streamlit run newfile.py"
   ]
  },
  {
   "cell_type": "markdown",
   "metadata": {
    "id": "fmK2Q-Ed-XtP"
   },
   "source": [
    "## Задание. Развернуть модель для любой задачи"
   ]
  },
  {
   "cell_type": "code",
   "execution_count": 45,
   "metadata": {
    "id": "HUQRmZAX-XtP"
   },
   "outputs": [
    {
     "name": "stdout",
     "output_type": "stream",
     "text": [
      "(59, 7)\n",
      "['apple' 'mandarin' 'orange' 'lemon']\n",
      "fruit_name\n",
      "apple       19\n",
      "lemon       16\n",
      "mandarin     5\n",
      "orange      19\n",
      "dtype: int64\n"
     ]
    },
    {
     "name": "stderr",
     "output_type": "stream",
     "text": [
      "C:\\Programs\\Anaconda\\lib\\site-packages\\seaborn\\_decorators.py:43: FutureWarning: Pass the following variable as a keyword arg: x. From version 0.12, the only valid positional argument will be `data`, and passing other arguments without an explicit keyword will result in an error or misinterpretation.\n",
      "  FutureWarning\n"
     ]
    },
    {
     "data": {
      "image/png": "[encoded data removed]",
      "text/plain": [
       "<Figure size 432x288 with 1 Axes>"
      ]
     },
     "metadata": {
      "needs_background": "light"
     },
     "output_type": "display_data"
    },
    {
     "data": {
      "image/png": "[encoded data removed]",
      "text/plain": [
       "<Figure size 648x648 with 4 Axes>"
      ]
     },
     "metadata": {
      "needs_background": "light"
     },
     "output_type": "display_data"
    }
   ],
   "source": [
    "# %matplotlib inline\n",
    "import pandas as pd\n",
    "import matplotlib.pyplot as plt\n",
    "fruits = pd.read_table('fruit_data_with_colors.txt')\n",
    "fruits.head()\n",
    "\n",
    "print(fruits.shape)\n",
    "\n",
    "print(fruits['fruit_name'].unique())\n",
    "\n",
    "print(fruits.groupby('fruit_name').size())\n",
    "\n",
    "import seaborn as sns\n",
    "sns.countplot(fruits['fruit_name'],label=\"Count\")\n",
    "plt.show()\n",
    "\n",
    "fruits.drop('fruit_label', axis=1).plot(kind='box', subplots=True, layout=(2,2), sharex=False, sharey=False, figsize=(9,9), \n",
    "                                        title='Box Plot for each input variable')\n",
    "plt.savefig('fruits_box')\n",
    "plt.show()"
   ]
  },
  {
   "cell_type": "code",
   "execution_count": 46,
   "metadata": {
    "id": "HUQRmZAX-XtP"
   },
   "outputs": [
    {
     "data": {
      "image/png": "[encoded data removed]",
      "text/plain": [
       "<Figure size 648x648 with 4 Axes>"
      ]
     },
     "metadata": {
      "needs_background": "light"
     },
     "output_type": "display_data"
    }
   ],
   "source": [
    "import pylab as pl\n",
    "fruits.drop('fruit_label' ,axis=1).hist(bins=30, figsize=(9,9))\n",
    "pl.suptitle(\"Histogram for each numeric input variable\")\n",
    "plt.savefig('fruits_hist')\n",
    "plt.show()"
   ]
  },
  {
   "cell_type": "code",
   "execution_count": 47,
   "metadata": {
    "id": "HUQRmZAX-XtP"
   },
   "outputs": [
    {
     "name": "stdout",
     "output_type": "stream",
     "text": [
      "Accuracy of Logistic regression classifier on training set: 0.75\n",
      "Accuracy of Logistic regression classifier on test set: 0.47\n",
      "Accuracy of Decision Tree classifier on training set: 1.00\n",
      "Accuracy of Decision Tree classifier on test set: 0.87\n",
      "Accuracy of K-NN classifier on training set: 0.95\n",
      "Accuracy of K-NN classifier on test set: 1.00\n",
      "Accuracy of LDA classifier on training set: 0.86\n",
      "Accuracy of LDA classifier on test set: 0.67\n",
      "Accuracy of GNB classifier on training set: 0.86\n",
      "Accuracy of GNB classifier on test set: 0.67\n",
      "Accuracy of SVM classifier on training set: 0.91\n",
      "Accuracy of SVM classifier on test set: 0.80\n",
      "[[4 0 0 0]\n",
      " [0 1 0 0]\n",
      " [0 0 8 0]\n",
      " [0 0 0 2]]\n",
      "              precision    recall  f1-score   support\n",
      "\n",
      "           1       1.00      1.00      1.00         4\n",
      "           2       1.00      1.00      1.00         1\n",
      "           3       1.00      1.00      1.00         8\n",
      "           4       1.00      1.00      1.00         2\n",
      "\n",
      "    accuracy                           1.00        15\n",
      "   macro avg       1.00      1.00      1.00        15\n",
      "weighted avg       1.00      1.00      1.00        15\n",
      "\n"
     ]
    },
    {
     "data": {
      "image/png": "[encoded data removed]",
      "text/plain": [
       "<Figure size 648x648 with 16 Axes>"
      ]
     },
     "metadata": {
      "needs_background": "light"
     },
     "output_type": "display_data"
    }
   ],
   "source": [
    "from pandas.plotting import scatter_matrix\n",
    "from matplotlib import cm\n",
    "feature_names = ['mass', 'width', 'height', 'color_score']\n",
    "X = fruits[feature_names]\n",
    "y = fruits['fruit_label']\n",
    "cmap = cm.get_cmap('gnuplot')\n",
    "scatter = scatter_matrix(X, c = y, marker = 'o', s=40, hist_kwds={'bins':15}, figsize=(9,9), cmap = cmap)\n",
    "plt.suptitle('Scatter-matrix for each input variable')\n",
    "plt.savefig('fruits_scatter_matrix')\n",
    "\n",
    "from sklearn.model_selection import train_test_split\n",
    "X_train, X_test, y_train, y_test = train_test_split(X, y, random_state=0)\n",
    "from sklearn.preprocessing import MinMaxScaler\n",
    "scaler = MinMaxScaler()\n",
    "X_train = scaler.fit_transform(X_train)\n",
    "X_test = scaler.transform(X_test)\n",
    "\n",
    "from sklearn.linear_model import LogisticRegression\n",
    "logreg = LogisticRegression()\n",
    "logreg.fit(X_train, y_train)\n",
    "print('Accuracy of Logistic regression classifier on training set: {:.2f}'\n",
    "     .format(logreg.score(X_train, y_train)))\n",
    "print('Accuracy of Logistic regression classifier on test set: {:.2f}'\n",
    "     .format(logreg.score(X_test, y_test)))\n",
    "\n",
    "from sklearn.tree import DecisionTreeClassifier\n",
    "clf = DecisionTreeClassifier().fit(X_train, y_train)\n",
    "print('Accuracy of Decision Tree classifier on training set: {:.2f}'\n",
    "     .format(clf.score(X_train, y_train)))\n",
    "print('Accuracy of Decision Tree classifier on test set: {:.2f}'\n",
    "     .format(clf.score(X_test, y_test)))\n",
    "\n",
    "import numpy as np\n",
    "\n",
    "from sklearn.neighbors import KNeighborsClassifier\n",
    "knn = KNeighborsClassifier()\n",
    "knn.fit(X_train, y_train)\n",
    "print('Accuracy of K-NN classifier on training set: {:.2f}'\n",
    "     .format(knn.score(X_train, y_train)))\n",
    "print('Accuracy of K-NN classifier on test set: {:.2f}'\n",
    "     .format(knn.score(X_test, y_test)))\n",
    "\n",
    "\n",
    "from sklearn.discriminant_analysis import LinearDiscriminantAnalysis\n",
    "lda = LinearDiscriminantAnalysis()\n",
    "lda.fit(X_train, y_train)\n",
    "print('Accuracy of LDA classifier on training set: {:.2f}'\n",
    "     .format(lda.score(X_train, y_train)))\n",
    "print('Accuracy of LDA classifier on test set: {:.2f}'\n",
    "     .format(lda.score(X_test, y_test)))\n",
    "\n",
    "from sklearn.naive_bayes import GaussianNB\n",
    "gnb = GaussianNB()\n",
    "gnb.fit(X_train, y_train)\n",
    "print('Accuracy of GNB classifier on training set: {:.2f}'\n",
    "     .format(gnb.score(X_train, y_train)))\n",
    "print('Accuracy of GNB classifier on test set: {:.2f}'\n",
    "     .format(gnb.score(X_test, y_test)))\n",
    "\n",
    "\n",
    "from sklearn.svm import SVC\n",
    "svm = SVC()\n",
    "svm.fit(X_train, y_train)\n",
    "print('Accuracy of SVM classifier on training set: {:.2f}'\n",
    "     .format(svm.score(X_train, y_train)))\n",
    "print('Accuracy of SVM classifier on test set: {:.2f}'\n",
    "     .format(svm.score(X_test, y_test)))\n",
    "\n",
    "\n",
    "\n",
    "from sklearn.metrics import classification_report\n",
    "from sklearn.metrics import confusion_matrix\n",
    "pred = knn.predict(X_test)\n",
    "print(confusion_matrix(y_test, pred))\n",
    "print(classification_report(y_test, pred))"
   ]
  },
  {
   "cell_type": "code",
   "execution_count": 48,
   "metadata": {
    "id": "HUQRmZAX-XtP"
   },
   "outputs": [],
   "source": [
    "import matplotlib.cm as cm\n",
    "from matplotlib.colors import ListedColormap, BoundaryNorm\n",
    "import matplotlib.patches as mpatches\n",
    "import matplotlib.patches as mpatches\n",
    "X = fruits[['mass', 'width', 'height', 'color_score']]\n",
    "y = fruits['fruit_label']\n",
    "X_train, X_test, y_train, y_test = train_test_split(X, y, random_state=0)\n",
    "def plot_fruit_knn(X, y, n_neighbors, weights):\n",
    "    X_mat = X[['height', 'width']].values\n",
    "    y_mat = y.values\n",
    "# Create color maps\n",
    "    cmap_light = ListedColormap(['#FFAAAA', '#AAFFAA', '#AAAAFF','#AFAFAF'])\n",
    "    cmap_bold  = ListedColormap(['#FF0000', '#00FF00', '#0000FF','#AFAFAF'])\n",
    "    clf = KNeighborsClassifier(n_neighbors, weights=weights)\n",
    "    clf.fit(X_mat, y_mat)\n",
    "# Plot the decision boundary by assigning a color in the color map\n",
    "    # to each mesh point.\n",
    "    \n",
    "    mesh_step_size = .01  # step size in the mesh\n",
    "    plot_symbol_size = 50\n",
    "\n",
    "    x_min, x_max = X_mat[:, 0].min() - 1, X_mat[:, 0].max() + 1\n",
    "    y_min, y_max = X_mat[:, 1].min() - 1, X_mat[:, 1].max() + 1\n",
    "    xx, yy = np.meshgrid(np.arange(x_min, x_max, mesh_step_size),\n",
    "                         np.arange(y_min, y_max, mesh_step_size))\n",
    "    Z = clf.predict(np.c_[xx.ravel(), yy.ravel()])\n",
    "    # Put the result into a color plot\n",
    "    Z = Z.reshape(xx.shape)\n",
    "    plt.figure()\n",
    "    plt.pcolormesh(xx, yy, Z, cmap=cmap_light)\n",
    "    # Plot training points\n",
    "    plt.scatter(X_mat[:, 0], X_mat[:, 1], s=plot_symbol_size, c=y, cmap=cmap_bold, edgecolor = 'black')\n",
    "    plt.xlim(xx.min(), xx.max())\n",
    "    plt.ylim(yy.min(), yy.max())\n",
    "    patch0 = mpatches.Patch(color='#FF0000', label='apple')\n",
    "    patch1 = mpatches.Patch(color='#00FF00', label='mandarin')\n",
    "    patch2 = mpatches.Patch(color='#0000FF', label='orange')\n",
    "    patch3 = mpatches.Patch(color='#AFAFAF', label='lemon')\n",
    "    plt.legend(handles=[patch0, patch1, patch2, patch3])\n",
    "\n",
    "    plt.xlabel('height (cm)')\n",
    "    plt.ylabel('width (cm)')\n",
    "    plt.title(\"4-Class classification (k = %i, weights = '%s')\"\n",
    "               % (n_neighbors, weights))    \n",
    "    plt.show()\n",
    "    "
   ]
  },
  {
   "cell_type": "code",
   "execution_count": 49,
   "metadata": {
    "id": "HUQRmZAX-XtP"
   },
   "outputs": [
    {
     "data": {
      "image/png": "[encoded data removed]",
      "text/plain": [
       "<Figure size 432x288 with 1 Axes>"
      ]
     },
     "metadata": {
      "needs_background": "light"
     },
     "output_type": "display_data"
    },
    {
     "data": {
      "text/plain": [
       "([<matplotlib.axis.XTick at 0x2f6edc4df08>,\n",
       "  <matplotlib.axis.XTick at 0x2f6edc5d748>,\n",
       "  <matplotlib.axis.XTick at 0x2f6f543ed88>,\n",
       "  <matplotlib.axis.XTick at 0x2f6edc781c8>,\n",
       "  <matplotlib.axis.XTick at 0x2f6edc78788>],\n",
       " <a list of 5 Text major ticklabel objects>)"
      ]
     },
     "execution_count": 49,
     "metadata": {},
     "output_type": "execute_result"
    },
    {
     "data": {
      "image/png": "[encoded data removed]",
      "text/plain": [
       "<Figure size 432x288 with 1 Axes>"
      ]
     },
     "metadata": {
      "needs_background": "light"
     },
     "output_type": "display_data"
    }
   ],
   "source": [
    "plot_fruit_knn(X_train, y_train, 5, 'uniform')\n",
    "\n",
    "\n",
    "k_range = range(1, 20)\n",
    "scores = []\n",
    "for k in k_range:\n",
    "    knn = KNeighborsClassifier(n_neighbors = k)\n",
    "    knn.fit(X_train, y_train)\n",
    "    scores.append(knn.score(X_test, y_test))\n",
    "plt.figure()\n",
    "plt.xlabel('k')\n",
    "plt.ylabel('accuracy')\n",
    "plt.scatter(k_range, scores)\n",
    "plt.xticks([0,5,10,15,20])"
   ]
  },
  {
   "cell_type": "markdown",
   "metadata": {
    "id": "BX6idKxV-XtP"
   },
   "source": [
    "https://towardsdatascience.com/solving-a-simple-classification-problem-with-python-fruits-lovers-edition-d20ab6b071d2"
   ]
  },
  {
   "cell_type": "markdown",
   "metadata": {
    "id": "FVk53Owe-XtP"
   },
   "source": [
    "Просмотреть и добавить \n",
    "\n",
    "Создание и развертывание веб-приложений машинного обучения с использованием Pycaret, Streamlit и Heroku   \n",
    "    \n",
    "    https://analyticsindiamag.com/guide-to-building-and-deploying-ml-web-applications-using-pycaret-streamlit-and-heroku/"
   ]
  },
  {
   "cell_type": "markdown",
   "metadata": {
    "id": "KymEAdf3-XtP"
   },
   "source": [
    "Примеры\n",
    "https://leaveprediction.herokuapp.com/\n",
    "    \n",
    "\n",
    "Виджеты для форм \n",
    "\n",
    "https://towardsdatascience.com/how-to-build-interactive-dashboards-in-python-using-streamlit-1198d4f7061b\n",
    "    \n",
    "Установка\n",
    "\n",
    "https://docs.streamlit.io/en/stable/installation.html\n",
    "\n",
    "\n",
    "Пример разработки приложения\n",
    "\n",
    "https://docs.streamlit.io/en/stable/tutorial/create_a_data_explorer_app.html#\n",
    "\n",
    "\n",
    "https://ichi.pro/ru/kak-sozdat-prilozenie-dla-klassifikacii-izobrazenij-s-ispol-zovaniem-logisticeskoj-regressii-i-myslenia-nejronnoj-seti-33604303553365\n",
    "\n",
    "\n",
    "Как развернуть приложение\n",
    "\n",
    "https://docs.streamlit.io/en/stable/deploy_streamlit_app.html\n",
    "\n",
    "https://medium.com/bloggers-bay/give-life-to-your-data-science-apps-using-streamlit-9b61dfe1085d\n",
    "\n",
    "https://nuancesprog.ru/p/5097/\n",
    "\n",
    "https://blog.skillfactory.ru/nauka-o-dannyh-data-science/kak-napisat-veb-prilozhenie-dlya-demonstratsii-data-science-proekta-na-python/\n"
   ]
  }
 ],
 "metadata": {
  "colab": {
   "name": "Lab_Streamlit.ipynb",
   "provenance": []
  },
  "kernelspec": {
   "display_name": "Python 3",
   "language": "python",
   "name": "python3"
  },
  "language_info": {
   "codemirror_mode": {
    "name": "ipython",
    "version": 3
   },
   "file_extension": ".py",
   "mimetype": "text/x-python",
   "name": "python",
   "nbconvert_exporter": "python",
   "pygments_lexer": "ipython3",
   "version": "3.7.6"
  }
 },
 "nbformat": 4,
 "nbformat_minor": 1
}
