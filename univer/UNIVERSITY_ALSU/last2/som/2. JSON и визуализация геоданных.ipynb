{
 "cells": [
  {
   "cell_type": "markdown",
   "metadata": {},
   "source": [
    "Перед тем как обрабатывать данные необходимо их найти. В этой задаче вам необходимо найти id набора данных, содержащего информацию о местах зимней рыбалки в парках Москвы на портале открытых данных Москвы http://data.mos.ru\n",
    "\n",
    "В качестве ответа введите одно число - id набора данных."
   ]
  },
  {
   "cell_type": "code",
   "execution_count": 1,
   "metadata": {},
   "outputs": [],
   "source": [
    "# ваш ответ\n"
   ]
  },
  {
   "cell_type": "markdown",
   "metadata": {},
   "source": [
    "В этой задаче необходимо проверить, что у вас установлен и работает модуль json (обычно он есть в стандартной поставке и не требует дополнительных действий для установки). Для этого вам необходимо https://stepik.org/media/attachments/lesson/268672/input.json и запустить скрипт, сохраненный в той же папке:\n",
    "\n",
    "import json\n",
    "\n",
    "fin = open('input.json', 'r', encoding='utf8')\n",
    "\n",
    "dct = json.loads(fin.read())\n",
    "\n",
    "fin.close()\n",
    "\n",
    "popup = dct['menu']['popup']\n",
    "\n",
    "menuitem = popup['menuitem']\n",
    "\n",
    "for now in menuitem:\n",
    "\n",
    "____for key in sorted(now):\n",
    "\n",
    "________print(key, now[key])\n",
    "\n",
    "В качестве ответа на задачу сдайте вывод этого скрипта"
   ]
  },
  {
   "cell_type": "code",
   "execution_count": 3,
   "metadata": {},
   "outputs": [],
   "source": [
    "# ваш ответ"
   ]
  },
  {
   "cell_type": "markdown",
   "metadata": {},
   "source": [
    "По данным портала открытых данных Москвы определите количество дней, когда освещение включено 12 часов или более.\n",
    "\n"
   ]
  },
  {
   "cell_type": "code",
   "execution_count": null,
   "metadata": {},
   "outputs": [],
   "source": [
    "# ваш ответ"
   ]
  },
  {
   "cell_type": "code",
   "execution_count": null,
   "metadata": {},
   "outputs": [],
   "source": [
    "Вам дан xlsx-файл с информацией о спортивных площадках в Москве https://stepik.org/media/attachments/lesson/268674/data-25290-2019-09-30.xlsx . Вам необходимо сдать на проверку json-файл, в котором будет храниться один словарь, ключами которого будут административные округа (AdmArea), а значениями словари, в которых, в свою очередь, ключами будут названия районов (District), относящихся к этому административному округу, а значениями - списки адресов площадок (Address) в том порядке, в котором они встречались в исходном файле.\n",
    "\n",
    "Ваш файл должен выглядеть примерно так:\n",
    "\n",
    "\"Северо-Западный административный округ\": \"район Строгино\": [\"улица Исаковского, дом 24, корпус 1\", \"Неманский проезд, дом 9\"], \"район Северное Тушино\": [\"улица Свободы, дом 56\", \"улица Свободы, дом 56\", \"улица Свободы, дом 56\", \"улица Свободы, дом 56\"], \"район Покровское-Стрешнево\": [\"Иваньковское шоссе, дом 6\"], \"район Щукино\": [\"Сосновая улица, дом 3, строение 2\"], ...\n",
    "\n"
   ]
  },
  {
   "cell_type": "markdown",
   "metadata": {},
   "source": []
  }
 ],
 "metadata": {
  "kernelspec": {
   "display_name": "Python 3",
   "language": "python",
   "name": "python3"
  },
  "language_info": {
   "codemirror_mode": {
    "name": "ipython",
    "version": 3
   },
   "file_extension": ".py",
   "mimetype": "text/x-python",
   "name": "python",
   "nbconvert_exporter": "python",
   "pygments_lexer": "ipython3",
   "version": "3.8.3"
  }
 },
 "nbformat": 4,
 "nbformat_minor": 4
}
