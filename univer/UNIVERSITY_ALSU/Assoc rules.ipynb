{
 "metadata": {
  "language_info": {
   "codemirror_mode": {
    "name": "ipython",
    "version": 3
   },
   "file_extension": ".py",
   "mimetype": "text/x-python",
   "name": "python",
   "nbconvert_exporter": "python",
   "pygments_lexer": "ipython3",
   "version": "3.7.2-final"
  },
  "orig_nbformat": 2,
  "kernelspec": {
   "name": "Python 3.7.2 64-bit",
   "display_name": "Python 3.7.2 64-bit",
   "metadata": {
    "interpreter": {
     "hash": "d1ecdf701dee722bd4126b42419bb4116f1575849d179025c9308a491da8c313"
    }
   }
  }
 },
 "nbformat": 4,
 "nbformat_minor": 2,
 "cells": [
  {
   "cell_type": "code",
   "execution_count": 14,
   "metadata": {},
   "outputs": [],
   "source": [
    "import pandas as pd\n",
    "import numpy as np \n",
    "import pyfpgrowth\n",
    "from apyori import apriori\n",
    "from time import process_time"
   ]
  },
  {
   "cell_type": "code",
   "execution_count": 15,
   "metadata": {},
   "outputs": [
    {
     "output_type": "execute_result",
     "data": {
      "text/plain": [
       "(7501, 20)"
      ]
     },
     "metadata": {},
     "execution_count": 15
    }
   ],
   "source": [
    "data = pd.read_csv(\"C://Users//mecaz//Desktop//DataScience//MachineLearning-projects//tables//Market_Basket_Optimisation.csv\", header=None,sep=',')\n",
    "data.shape\n"
   ]
  },
  {
   "cell_type": "code",
   "execution_count": 16,
   "metadata": {},
   "outputs": [
    {
     "output_type": "execute_result",
     "data": {
      "text/plain": [
       "                  0             1           2                 3   \\\n",
       "0             shrimp       almonds     avocado    vegetables mix   \n",
       "1            burgers     meatballs        eggs               NaN   \n",
       "2            chutney           NaN         NaN               NaN   \n",
       "3             turkey       avocado         NaN               NaN   \n",
       "4      mineral water          milk  energy bar  whole wheat rice   \n",
       "5     low fat yogurt           NaN         NaN               NaN   \n",
       "6  whole wheat pasta  french fries         NaN               NaN   \n",
       "7               soup   light cream     shallot               NaN   \n",
       "8  frozen vegetables     spaghetti   green tea               NaN   \n",
       "9       french fries           NaN         NaN               NaN   \n",
       "\n",
       "             4                 5     6               7             8   \\\n",
       "0  green grapes  whole weat flour  yams  cottage cheese  energy drink   \n",
       "1           NaN               NaN   NaN             NaN           NaN   \n",
       "2           NaN               NaN   NaN             NaN           NaN   \n",
       "3           NaN               NaN   NaN             NaN           NaN   \n",
       "4     green tea               NaN   NaN             NaN           NaN   \n",
       "5           NaN               NaN   NaN             NaN           NaN   \n",
       "6           NaN               NaN   NaN             NaN           NaN   \n",
       "7           NaN               NaN   NaN             NaN           NaN   \n",
       "8           NaN               NaN   NaN             NaN           NaN   \n",
       "9           NaN               NaN   NaN             NaN           NaN   \n",
       "\n",
       "             9               10         11     12     13             14  \\\n",
       "0  tomato juice  low fat yogurt  green tea  honey  salad  mineral water   \n",
       "1           NaN             NaN        NaN    NaN    NaN            NaN   \n",
       "2           NaN             NaN        NaN    NaN    NaN            NaN   \n",
       "3           NaN             NaN        NaN    NaN    NaN            NaN   \n",
       "4           NaN             NaN        NaN    NaN    NaN            NaN   \n",
       "5           NaN             NaN        NaN    NaN    NaN            NaN   \n",
       "6           NaN             NaN        NaN    NaN    NaN            NaN   \n",
       "7           NaN             NaN        NaN    NaN    NaN            NaN   \n",
       "8           NaN             NaN        NaN    NaN    NaN            NaN   \n",
       "9           NaN             NaN        NaN    NaN    NaN            NaN   \n",
       "\n",
       "       15                 16               17       18         19  \n",
       "0  salmon  antioxydant juice  frozen smoothie  spinach  olive oil  \n",
       "1     NaN                NaN              NaN      NaN        NaN  \n",
       "2     NaN                NaN              NaN      NaN        NaN  \n",
       "3     NaN                NaN              NaN      NaN        NaN  \n",
       "4     NaN                NaN              NaN      NaN        NaN  \n",
       "5     NaN                NaN              NaN      NaN        NaN  \n",
       "6     NaN                NaN              NaN      NaN        NaN  \n",
       "7     NaN                NaN              NaN      NaN        NaN  \n",
       "8     NaN                NaN              NaN      NaN        NaN  \n",
       "9     NaN                NaN              NaN      NaN        NaN  "
      ],
      "text/html": "<div>\n<style scoped>\n    .dataframe tbody tr th:only-of-type {\n        vertical-align: middle;\n    }\n\n    .dataframe tbody tr th {\n        vertical-align: top;\n    }\n\n    .dataframe thead th {\n        text-align: right;\n    }\n</style>\n<table border=\"1\" class=\"dataframe\">\n  <thead>\n    <tr style=\"text-align: right;\">\n      <th></th>\n      <th>0</th>\n      <th>1</th>\n      <th>2</th>\n      <th>3</th>\n      <th>4</th>\n      <th>5</th>\n      <th>6</th>\n      <th>7</th>\n      <th>8</th>\n      <th>9</th>\n      <th>10</th>\n      <th>11</th>\n      <th>12</th>\n      <th>13</th>\n      <th>14</th>\n      <th>15</th>\n      <th>16</th>\n      <th>17</th>\n      <th>18</th>\n      <th>19</th>\n    </tr>\n  </thead>\n  <tbody>\n    <tr>\n      <td>0</td>\n      <td>shrimp</td>\n      <td>almonds</td>\n      <td>avocado</td>\n      <td>vegetables mix</td>\n      <td>green grapes</td>\n      <td>whole weat flour</td>\n      <td>yams</td>\n      <td>cottage cheese</td>\n      <td>energy drink</td>\n      <td>tomato juice</td>\n      <td>low fat yogurt</td>\n      <td>green tea</td>\n      <td>honey</td>\n      <td>salad</td>\n      <td>mineral water</td>\n      <td>salmon</td>\n      <td>antioxydant juice</td>\n      <td>frozen smoothie</td>\n      <td>spinach</td>\n      <td>olive oil</td>\n    </tr>\n    <tr>\n      <td>1</td>\n      <td>burgers</td>\n      <td>meatballs</td>\n      <td>eggs</td>\n      <td>NaN</td>\n      <td>NaN</td>\n      <td>NaN</td>\n      <td>NaN</td>\n      <td>NaN</td>\n      <td>NaN</td>\n      <td>NaN</td>\n      <td>NaN</td>\n      <td>NaN</td>\n      <td>NaN</td>\n      <td>NaN</td>\n      <td>NaN</td>\n      <td>NaN</td>\n      <td>NaN</td>\n      <td>NaN</td>\n      <td>NaN</td>\n      <td>NaN</td>\n    </tr>\n    <tr>\n      <td>2</td>\n      <td>chutney</td>\n      <td>NaN</td>\n      <td>NaN</td>\n      <td>NaN</td>\n      <td>NaN</td>\n      <td>NaN</td>\n      <td>NaN</td>\n      <td>NaN</td>\n      <td>NaN</td>\n      <td>NaN</td>\n      <td>NaN</td>\n      <td>NaN</td>\n      <td>NaN</td>\n      <td>NaN</td>\n      <td>NaN</td>\n      <td>NaN</td>\n      <td>NaN</td>\n      <td>NaN</td>\n      <td>NaN</td>\n      <td>NaN</td>\n    </tr>\n    <tr>\n      <td>3</td>\n      <td>turkey</td>\n      <td>avocado</td>\n      <td>NaN</td>\n      <td>NaN</td>\n      <td>NaN</td>\n      <td>NaN</td>\n      <td>NaN</td>\n      <td>NaN</td>\n      <td>NaN</td>\n      <td>NaN</td>\n      <td>NaN</td>\n      <td>NaN</td>\n      <td>NaN</td>\n      <td>NaN</td>\n      <td>NaN</td>\n      <td>NaN</td>\n      <td>NaN</td>\n      <td>NaN</td>\n      <td>NaN</td>\n      <td>NaN</td>\n    </tr>\n    <tr>\n      <td>4</td>\n      <td>mineral water</td>\n      <td>milk</td>\n      <td>energy bar</td>\n      <td>whole wheat rice</td>\n      <td>green tea</td>\n      <td>NaN</td>\n      <td>NaN</td>\n      <td>NaN</td>\n      <td>NaN</td>\n      <td>NaN</td>\n      <td>NaN</td>\n      <td>NaN</td>\n      <td>NaN</td>\n      <td>NaN</td>\n      <td>NaN</td>\n      <td>NaN</td>\n      <td>NaN</td>\n      <td>NaN</td>\n      <td>NaN</td>\n      <td>NaN</td>\n    </tr>\n    <tr>\n      <td>5</td>\n      <td>low fat yogurt</td>\n      <td>NaN</td>\n      <td>NaN</td>\n      <td>NaN</td>\n      <td>NaN</td>\n      <td>NaN</td>\n      <td>NaN</td>\n      <td>NaN</td>\n      <td>NaN</td>\n      <td>NaN</td>\n      <td>NaN</td>\n      <td>NaN</td>\n      <td>NaN</td>\n      <td>NaN</td>\n      <td>NaN</td>\n      <td>NaN</td>\n      <td>NaN</td>\n      <td>NaN</td>\n      <td>NaN</td>\n      <td>NaN</td>\n    </tr>\n    <tr>\n      <td>6</td>\n      <td>whole wheat pasta</td>\n      <td>french fries</td>\n      <td>NaN</td>\n      <td>NaN</td>\n      <td>NaN</td>\n      <td>NaN</td>\n      <td>NaN</td>\n      <td>NaN</td>\n      <td>NaN</td>\n      <td>NaN</td>\n      <td>NaN</td>\n      <td>NaN</td>\n      <td>NaN</td>\n      <td>NaN</td>\n      <td>NaN</td>\n      <td>NaN</td>\n      <td>NaN</td>\n      <td>NaN</td>\n      <td>NaN</td>\n      <td>NaN</td>\n    </tr>\n    <tr>\n      <td>7</td>\n      <td>soup</td>\n      <td>light cream</td>\n      <td>shallot</td>\n      <td>NaN</td>\n      <td>NaN</td>\n      <td>NaN</td>\n      <td>NaN</td>\n      <td>NaN</td>\n      <td>NaN</td>\n      <td>NaN</td>\n      <td>NaN</td>\n      <td>NaN</td>\n      <td>NaN</td>\n      <td>NaN</td>\n      <td>NaN</td>\n      <td>NaN</td>\n      <td>NaN</td>\n      <td>NaN</td>\n      <td>NaN</td>\n      <td>NaN</td>\n    </tr>\n    <tr>\n      <td>8</td>\n      <td>frozen vegetables</td>\n      <td>spaghetti</td>\n      <td>green tea</td>\n      <td>NaN</td>\n      <td>NaN</td>\n      <td>NaN</td>\n      <td>NaN</td>\n      <td>NaN</td>\n      <td>NaN</td>\n      <td>NaN</td>\n      <td>NaN</td>\n      <td>NaN</td>\n      <td>NaN</td>\n      <td>NaN</td>\n      <td>NaN</td>\n      <td>NaN</td>\n      <td>NaN</td>\n      <td>NaN</td>\n      <td>NaN</td>\n      <td>NaN</td>\n    </tr>\n    <tr>\n      <td>9</td>\n      <td>french fries</td>\n      <td>NaN</td>\n      <td>NaN</td>\n      <td>NaN</td>\n      <td>NaN</td>\n      <td>NaN</td>\n      <td>NaN</td>\n      <td>NaN</td>\n      <td>NaN</td>\n      <td>NaN</td>\n      <td>NaN</td>\n      <td>NaN</td>\n      <td>NaN</td>\n      <td>NaN</td>\n      <td>NaN</td>\n      <td>NaN</td>\n      <td>NaN</td>\n      <td>NaN</td>\n      <td>NaN</td>\n      <td>NaN</td>\n    </tr>\n  </tbody>\n</table>\n</div>"
     },
     "metadata": {},
     "execution_count": 16
    }
   ],
   "source": [
    "data.head(10)"
   ]
  },
  {
   "cell_type": "code",
   "execution_count": 17,
   "metadata": {
    "tags": []
   },
   "outputs": [],
   "source": [
    "records = []\n",
    "for i in range(0, 7501):\n",
    "    records.append([str(data.values[i,j]) for j in range(0, 20)])"
   ]
  },
  {
   "cell_type": "code",
   "execution_count": 18,
   "metadata": {},
   "outputs": [],
   "source": [
    "t = process_time()\n",
    "association_rules = apriori(records, min_support=0.001, min_confidence=0.8, min_lift=3, min_length=2)\n",
    "association_results = list(association_rules)\n",
    "apriori_elapsed_time = process_time() - t"
   ]
  },
  {
   "cell_type": "code",
   "execution_count": 19,
   "metadata": {
    "tags": []
   },
   "outputs": [
    {
     "output_type": "stream",
     "name": "stdout",
     "text": [
      "frozenset({'spaghetti', 'bacon', 'pancakes'}) : 0.8125\nfrozenset({'frozen smoothie', 'milk', 'black tea'}) : 0.8181818181818181\nfrozenset({'spaghetti', 'chicken', 'protein bar'}) : 0.8181818181818181\nfrozenset({'cooking oil', 'mineral water', 'fromage blanc'}) : 0.8181818181818181\nfrozenset({'mushroom cream sauce', 'escalope', 'pasta'}) : 0.95\nfrozenset({'spinach', 'frozen smoothie', 'mineral water'}) : 0.8888888888888888\nfrozenset({'mineral water', 'nonfat milk', 'ground beef'}) : 0.8571428571428572\nfrozenset({'whole wheat pasta', 'milk', 'meatballs'}) : 0.8333333333333333\nfrozenset({'shrimp', 'milk', 'pasta'}) : 0.8571428571428572\nfrozenset({'turkey', 'mineral water', 'nonfat milk'}) : 0.8181818181818181\nfrozenset({'mineral water', 'soup', 'red wine'}) : 0.9333333333333332\nfrozenset({'turkey', 'mineral water', 'whole wheat pasta'}) : 0.8461538461538463\nfrozenset({'spaghetti', 'eggs', 'turkey', 'black tea'}) : 0.8888888888888888\nfrozenset({'ground beef', 'mineral water', 'eggs', 'brownies'}) : 0.8888888888888888\nfrozenset({'frozen vegetables', 'mineral water', 'olive oil', 'burgers'}) : 0.8181818181818181\nfrozenset({'frozen vegetables', 'spaghetti', 'pancakes', 'burgers'}) : 0.8461538461538463\nfrozenset({'salmon', 'spaghetti', 'milk', 'burgers'}) : 0.8888888888888888\nfrozenset({'cake', 'milk', 'meatballs', 'mineral water'}) : 0.8888888888888888\nfrozenset({'olive oil', 'cake', 'shrimp', 'mineral water'}) : 1.0\nfrozenset({'olive oil', 'cake', 'whole wheat pasta', 'mineral water'}) : 0.8888888888888888\nfrozenset({'chicken', 'mineral water', 'fresh bread', 'pancakes'}) : 0.8888888888888888\nfrozenset({'chocolate', 'escalope', 'shrimp', 'french fries'}) : 0.8888888888888888\nfrozenset({'turkey', 'chocolate', 'mineral water', 'soup'}) : 0.8888888888888888\nfrozenset({'shrimp', 'mineral water', 'eggs', 'pasta'}) : 0.9090909090909091\nfrozenset({'mushroom cream sauce', 'escalope', 'pasta', 'french fries'}) : 1.0\nfrozenset({'escalope', 'milk', 'hot dogs', 'mineral water'}) : 0.8888888888888888\nfrozenset({'mineral water', 'milk', 'herb & pepper', 'french fries'}) : 0.8181818181818181\nfrozenset({'frozen vegetables', 'mineral water', 'shrimp', 'olive oil'}) : 0.823529411764706\nfrozenset({'frozen vegetables', 'mineral water', 'olive oil', 'soup'}) : 0.8125\nfrozenset({'frozen vegetables', 'tomatoes', 'olive oil', 'spaghetti'}) : 0.8421052631578947\nfrozenset({'frozen vegetables', 'tomatoes', 'spaghetti', 'whole wheat rice'}) : 0.8333333333333333\nfrozenset({'mineral water', 'rice', 'grated cheese', 'ground beef'}) : 0.8888888888888888\nfrozenset({'spaghetti', 'ground beef', 'tomato sauce', 'green tea'}) : 0.8333333333333333\nfrozenset({'mineral water', 'rice', 'herb & pepper', 'ground beef'}) : 0.9090909090909091\nfrozenset({'light cream', 'mineral water', 'olive oil', 'ground beef'}) : 1.0\nfrozenset({'mineral water', 'whole wheat rice', 'pancakes', 'ground beef'}) : 0.9090909090909091\nfrozenset({'salmon', 'spaghetti', 'shrimp', 'ground beef'}) : 0.8888888888888888\nfrozenset({'light cream', 'mineral water', 'shrimp', 'spaghetti'}) : 0.8888888888888888\nfrozenset({'soup', 'tomatoes', 'mineral water', 'olive oil'}) : 0.8333333333333333\nfrozenset({'mineral water', 'eggs', 'frozen vegetables', 'chocolate', 'ground beef'}) : 0.8461538461538463\nfrozenset({'spaghetti', 'mineral water', 'eggs', 'chocolate', 'olive oil'}) : 0.8181818181818181\nfrozenset({'mineral water', 'frozen vegetables', 'chocolate', 'shrimp', 'olive oil'}) : 0.9\nfrozenset({'spaghetti', 'mineral water', 'frozen vegetables', 'chocolate', 'shrimp'}) : 0.8666666666666665\nfrozenset({'spaghetti', 'mineral water', 'milk', 'chocolate', 'shrimp'}) : 0.8181818181818181\nfrozenset({'spaghetti', 'mineral water', 'frozen vegetables', 'shrimp', 'ground beef'}) : 0.8666666666666665\nfrozenset({'spaghetti', 'mineral water', 'frozen vegetables', 'ground beef', 'tomatoes'}) : 0.8181818181818181\nfrozenset({'soup', 'mineral water', 'milk', 'frozen vegetables', 'olive oil'}) : 0.8181818181818181\nfrozenset({'spaghetti', 'mineral water', 'milk', 'frozen vegetables', 'shrimp'}) : 0.8461538461538463\nfrozenset({'turkey', 'spaghetti', 'mineral water', 'milk', 'frozen vegetables'}) : 0.9\nfrozenset({'spaghetti', 'mineral water', 'milk', 'frozen vegetables', 'chocolate', 'ground beef'}) : 0.8888888888888888\n"
     ]
    }
   ],
   "source": [
    "for i in association_results:\n",
    "    if not 'nan' in i[0]:\n",
    "        print(i[0], \":\", i[2][0][2]) "
   ]
  },
  {
   "cell_type": "code",
   "execution_count": 20,
   "metadata": {
    "tags": []
   },
   "outputs": [],
   "source": [
    "t = process_time()\n",
    "patterns = pyfpgrowth.find_frequent_patterns(records, 7)\n",
    "new_patterns = {k: v for k, v in patterns.items() if not ((\"nan\") in k)}\n",
    "rules = pyfpgrowth.generate_association_rules(new_patterns, .8);\n",
    "fp_elapsed_time = process_time() - t"
   ]
  },
  {
   "cell_type": "code",
   "execution_count": 21,
   "metadata": {},
   "outputs": [
    {
     "output_type": "execute_result",
     "data": {
      "text/plain": [
       "{('mineral water', 'pasta', 'shrimp'): (('eggs',), 0.8333333333333334),\n",
       " ('grated cheese', 'ground beef', 'rice'): (('mineral water',), 0.8),\n",
       " ('cake', 'meatballs', 'milk'): (('mineral water',), 0.8888888888888888),\n",
       " ('hot dogs', 'mineral water', 'salmon'): (('spaghetti',), 0.875),\n",
       " ('escalope', 'hot dogs', 'milk'): (('mineral water',), 0.8),\n",
       " ('chicken', 'olive oil', 'shrimp', 'spaghetti'): (('mineral water',), 0.875),\n",
       " ('frozen smoothie', 'milk', 'mineral water', 'shrimp'): (('spaghetti',),\n",
       "  0.875),\n",
       " ('chocolate',\n",
       "  'ground beef',\n",
       "  'milk',\n",
       "  'mineral water',\n",
       "  'spaghetti'): (('frozen vegetables',), 0.8888888888888888)}"
      ]
     },
     "metadata": {},
     "execution_count": 21
    }
   ],
   "source": [
    "rules"
   ]
  },
  {
   "cell_type": "code",
   "execution_count": 35,
   "metadata": {},
   "outputs": [],
   "source": [
    "class Eclat:\n",
    "    #инициализация объекта класса\n",
    "    def __init__(self, min_support = 0.001, max_items = 5, min_items = 2):\n",
    "        self.min_support = min_support\n",
    "        self.max_items = max_items\n",
    "        self.min_items = min_items\n",
    "        self.item_lst = list()\n",
    "        self.item_len = 0\n",
    "        self.item_dict = dict()\n",
    "        self.final_dict = dict()\n",
    "        self.data_size = 0\n",
    "    \n",
    "    #создание словаря из ненулевых объектов из всех транзакций (вертикальный датасет)\n",
    "    def read_data(self, dataset):\n",
    "        for index, row in dataset.iterrows():\n",
    "            row_wo_na = set(row)\n",
    "            for item in row_wo_na:\n",
    "                if pd.isnull(item):\n",
    "                    item = 'nan'\n",
    "                else:\n",
    "                    item = item.strip()\n",
    "                if item in self.item_dict:\n",
    "                    self.item_dict[item][0] += 1\n",
    "                else:\n",
    "                    self.item_dict.setdefault(item, []).append(1)\n",
    "                self.item_dict[item].append(index)\n",
    "        #задаем переменные экземпляра (instance variables)\n",
    "        self.data_size = dataset.shape[0]\n",
    "        self.item_lst = list(self.item_dict.keys())\n",
    "        self.item_len = len(self.item_lst)\n",
    "        self.min_support = self.min_support * self.data_size\n",
    "        #print (\"min_supp\", self.min_support)\n",
    "        \n",
    "    #рекурсивный метод для поиска всех ItemSet по алгоритму Eclat\n",
    "    #структура данных: {Item: [Supp number, tid1, tid2, tid3, ...]}\n",
    "    def recur_eclat(self, item_name, tids_array, minsupp, num_items, k_start):\n",
    "        if tids_array[0] >= minsupp and num_items <= self.max_items:\n",
    "            for k in range(k_start+1, self.item_len):\n",
    "                if self.item_dict[self.item_lst[k]][0] >= minsupp:\n",
    "                    new_item = item_name + \" | \" + self.item_lst[k]\n",
    "                    new_tids = np.intersect1d(tids_array[1:], self.item_dict[self.item_lst[k]][1:])\n",
    "                    new_tids_size = new_tids.size\n",
    "                    new_tids = np.insert(new_tids, 0, new_tids_size)\n",
    "                    if new_tids_size >= minsupp:\n",
    "                        if num_items >= self.min_items: self.final_dict.update({new_item: new_tids})\n",
    "                        self.recur_eclat(new_item, new_tids, minsupp, num_items + 1, k)\n",
    "    \n",
    "    #последовательный вызов функций определенных выше\n",
    "    def fit(self, dataset):\n",
    "        i = 0\n",
    "        self.read_data(dataset)\n",
    "        for w in self.item_lst:\n",
    "            self.recur_eclat(w, self.item_dict[w], self.min_support, 2, i)\n",
    "            i+=1\n",
    "        return self\n",
    "        \n",
    "    #вывод в форме словаря {ItemSet: support(ItemSet)}\n",
    "    def transform(self):\n",
    "        return {k: \"{0:.4f}%\".format((v[0]+0.0)/self.data_size*100) for k, v in self.final_dict.items() if not ((\"nan\") in k)}\n",
    "\n",
    "model = Eclat(min_support = 0.05, max_items = 5, min_items = 2)"
   ]
  },
  {
   "cell_type": "code",
   "execution_count": 36,
   "metadata": {
    "tags": []
   },
   "outputs": [],
   "source": [
    "t = process_time()\n",
    "model.fit(data)\n",
    "eclat_time = process_time() - t"
   ]
  },
  {
   "cell_type": "code",
   "execution_count": 37,
   "metadata": {},
   "outputs": [
    {
     "output_type": "execute_result",
     "data": {
      "text/plain": [
       "{'mineral water | eggs': '5.0927%',\n",
       " 'mineral water | spaghetti': '5.9725%',\n",
       " 'mineral water | chocolate': '5.2660%'}"
      ]
     },
     "metadata": {},
     "execution_count": 37
    }
   ],
   "source": [
    "model.transform()"
   ]
  },
  {
   "cell_type": "code",
   "execution_count": 25,
   "metadata": {},
   "outputs": [
    {
     "output_type": "stream",
     "name": "stdout",
     "text": [
      "Apriori time is  188.75\nFP_Growrh time is  19.234375\nECLAT time is  3.671875\n"
     ]
    }
   ],
   "source": [
    "print('Apriori time is ', apriori_elapsed_time)\n",
    "print('FP_Growrh time is ', fp_elapsed_time)\n",
    "print('ECLAT time is ', eclat_time)"
   ]
  }
 ]
}