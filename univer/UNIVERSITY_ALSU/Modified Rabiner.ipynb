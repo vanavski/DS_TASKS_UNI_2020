{
 "cells": [
  {
   "cell_type": "code",
   "execution_count": 2,
   "metadata": {
    "tags": [
     "outputPrepend"
    ]
   },
   "outputs": [],
   "source": [
    "import numpy as np\n",
    "import pandas as pd\n",
    "import random\n",
    "import csv\n",
    "import quantecon as qe"
   ]
  },
  {
   "cell_type": "code",
   "execution_count": 3,
   "metadata": {
    "tags": [
     "outputPrepend"
    ]
   },
   "outputs": [],
   "source": [
    "N=1000\n",
    "\n",
    "data=list(range(4))\n",
    "\n",
    "#print((data))\n",
    "tv = [[0.25, 0.25, 0.25, 0.25],\n",
    "      [1/3,   1/3,  1/3,  0],\n",
    "      [0.5,   0.5,   0,   0],\n",
    "      [0.5,   0,     0,   0.5]]\n",
    "\n",
    "tn = [[0.5,  0,     0,    0.5],\n",
    "      [0,    0,     0.5,  0.5],\n",
    "      [0,    1/3,   1/3,  1/3],\n",
    "      [0.25, 0.25, 0.25, 0.25]]\n",
    "\n",
    "bp =  [[0,      0,    0.5,   0.5],\n",
    "      [0,      0,     0.5,   0.5],\n",
    "      [0.5,    0.5,   0,    0],\n",
    "      [0.5,    0.5,   0,    0]]\n",
    "\n",
    "bl =  [[0.5,    0.5, 0,    0],\n",
    "      [0.5,    0.5,  0,    0],\n",
    "      [0,      0,    0.5,   0.5],\n",
    "      [0,      0,    0.5,   0.5]]\n",
    "\n",
    "# ЗАПИСЬ В CSW  файл:\n",
    "TOP = [['sequance', 'matrix']] \n",
    "for i in list(map(lambda x: 'a%i'%x , range(2,N+1))):\n",
    "    TOP[0].append(i)\n",
    "nameFile = 'data.csv'\n",
    "\n",
    "topSeq = [['num', 'sequance', 'probabilities']]\n",
    "seqFile = 'sequance.csv'"
   ]
  },
  {
   "cell_type": "code",
   "execution_count": 4,
   "metadata": {
    "tags": [
     "outputPrepend"
    ]
   },
   "outputs": [],
   "source": [
    "def generate_vector_of_probabilities(lenData, lenMAX):\n",
    "     l = list(map(lambda x: random.randint(0,lenMAX), range(lenData)))\n",
    "     summ = sum(l)\n",
    "     return  list(map(lambda x: (l[x]/summ), range(lenData)))\n",
    "\n",
    "\n",
    "def write_to_csw(data, nameFile, type='a'):\n",
    "    File = open(nameFile, type)\n",
    "    with File:\n",
    "        writer = csv.writer(File)\n",
    "        writer.writerows(data)\n",
    "      \n",
    "def run(p, name, sequence, num, vector_of_probabilities):\n",
    "    data_of_new_seq=[num, name]\n",
    "    write_to_csw([[num, ''.join(str(x) for x in sequence), '-'.join(str(x) for x in vector_of_probabilities)]], seqFile)\n",
    "\n",
    "    matrix_of_probabilities=[vector_of_probabilities]\n",
    "    for i in sequence[1:]:\n",
    "         new=[0]*len(data)\n",
    "         for j in range(len(data)):\n",
    "            new[data.index(i)]+=matrix_of_probabilities[-1][j]*p[j][data.index(i)]\n",
    "         matrix_of_probabilities.append(new)\n",
    "         data_of_new_seq.append(sum(matrix_of_probabilities[-1]))\n",
    "    write_to_csw([data_of_new_seq], nameFile)"
   ]
  },
  {
   "cell_type": "code",
   "execution_count": 5,
   "metadata": {
    "tags": [
     "outputPrepend"
    ]
   },
   "outputs": [],
   "source": [
    "write_to_csw(TOP, nameFile, 'w')\n",
    "write_to_csw(topSeq, seqFile, 'w')\n",
    "\n",
    "m1 = [tv, tn, bl, bp]\n",
    "m2 = ['tv', 'tn', 'bl', 'bp']\n",
    "for j in range(100):\n",
    "    vector_of_probabilities = generate_vector_of_probabilities(len(data), N)\n",
    "    for i in range(4):\n",
    "        mc = qe.MarkovChain(m1[i])\n",
    "        sequence = mc.simulate(N, random_state=None)\n",
    "        for k in range(4):\n",
    "          run(m1[k], m2[k], sequence, j+i, vector_of_probabilities)"
   ]
  },
  {
   "cell_type": "code",
   "execution_count": null,
   "metadata": {
    "tags": [
     "outputPrepend"
    ]
   },
   "outputs": [],
   "source": [
    "#p1 = ([\n",
    "#     [0.1, 0.5, 0.4],\n",
    "#     [0.3, 0.3, 0.4],\n",
    "#     [0.8, 0.1, 0.1]])\n",
    "#\n",
    "#p2 = ([\n",
    "#     [0.1, 0.5, 0.4],\n",
    "#     [0.3, 0.3, 0.4],\n",
    "#     [0.8, 0, 0.2]])\n",
    "#\n",
    "#p3 = ([\n",
    "#     [0.5, 0, 0.5],\n",
    "#     [0.05,0.05,0.9],\n",
    "#     [0.05,0.9,0.05]])\n",
    "#\n",
    "#p4 = ([\n",
    "#     [1/3, 1/3 , 1/3],\n",
    "#     [1/3, 1/3 , 1/3],\n",
    "#     [1/3, 1/3 , 1/3]])"
   ]
  },
  {
   "cell_type": "code",
   "execution_count": null,
   "metadata": {},
   "outputs": [],
   "source": []
  }
 ],
 "metadata": {
  "kernelspec": {
   "display_name": "Python 3",
   "language": "python",
   "name": "python3"
  },
  "language_info": {
   "codemirror_mode": {
    "name": "ipython",
    "version": 3
   },
   "file_extension": ".py",
   "mimetype": "text/x-python",
   "name": "python",
   "nbconvert_exporter": "python",
   "pygments_lexer": "ipython3",
   "version": "3.7.6"
  }
 },
 "nbformat": 4,
 "nbformat_minor": 2
}
